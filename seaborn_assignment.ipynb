{
 "cells": [
  {
   "cell_type": "markdown",
   "id": "2009fa17",
   "metadata": {},
   "source": [
    "# Seaborn Assignment"
   ]
  },
  {
   "cell_type": "markdown",
   "id": "2e7facbc",
   "metadata": {},
   "source": [
    "### Que 1: Name any five plots that we can plot using the Seaborn library. Also, state the uses of each plot."
   ]
  },
  {
   "cell_type": "code",
   "execution_count": null,
   "id": "d13d0b80",
   "metadata": {},
   "outputs": [],
   "source": [
    "\n",
    "import seaborn as sns\n",
    "\n",
    "# Five plots in Seaborn\n",
    "plots = {\n",
    "    \"Line Plot\": \"Used to visualize data trends over time.\",\n",
    "    \"Scatter Plot\": \"Used to visualize relationships between two numerical variables.\",\n",
    "    \"Box Plot\": \"Used to show the distribution of a dataset and detect outliers.\",\n",
    "    \"Histogram\": \"Used to show the distribution of a single numerical variable.\",\n",
    "    \"Heatmap\": \"Used to visualize correlations or frequency distributions in a matrix.\"\n",
    "}\n",
    "\n",
    "for plot, use in plots.items():\n",
    "    print(f\"{plot}: {use}\")\n",
    "    "
   ]
  },
  {
   "cell_type": "markdown",
   "id": "55b8e695",
   "metadata": {},
   "source": [
    "### Que 2: Load the 'fmri' dataset using the load_dataset function of seaborn. Plot a line plot using x = 'timepoint' and y = 'signal' for different events and regions."
   ]
  },
  {
   "cell_type": "code",
   "execution_count": null,
   "id": "a16a5d2f",
   "metadata": {},
   "outputs": [],
   "source": [
    "\n",
    "import seaborn as sns\n",
    "import matplotlib.pyplot as plt\n",
    "\n",
    "# Load dataset\n",
    "fmri = sns.load_dataset(\"fmri\")\n",
    "\n",
    "# Line plot\n",
    "plt.figure(figsize=(10, 6))\n",
    "sns.lineplot(data=fmri, x=\"timepoint\", y=\"signal\", hue=\"event\", style=\"region\")\n",
    "plt.title(\"FMRI Signal over Time\")\n",
    "plt.show()\n"
   ]
  },
  {
   "cell_type": "markdown",
   "id": "f1dc18e8",
   "metadata": {},
   "source": [
    "### Que 3: Load the 'titanic' dataset using the load_dataset function of seaborn. Plot two box plots using x = 'pclass', y = 'age' and y = 'fare'."
   ]
  },
  {
   "cell_type": "code",
   "execution_count": null,
   "id": "2c7aae21",
   "metadata": {},
   "outputs": [],
   "source": [
    "\n",
    "# Load dataset\n",
    "titanic = sns.load_dataset(\"titanic\")\n",
    "\n",
    "# Box plots\n",
    "fig, axes = plt.subplots(1, 2, figsize=(12, 5))\n",
    "sns.boxplot(data=titanic, x=\"pclass\", y=\"age\", ax=axes[0])\n",
    "sns.boxplot(data=titanic, x=\"pclass\", y=\"fare\", ax=axes[1])\n",
    "axes[0].set_title(\"Age Distribution by Passenger Class\")\n",
    "axes[1].set_title(\"Fare Distribution by Passenger Class\")\n",
    "plt.show()\n"
   ]
  },
  {
   "cell_type": "markdown",
   "id": "63c75551",
   "metadata": {},
   "source": [
    "### Que 4: Use the 'diamonds' dataset from seaborn to plot a histogram for the 'price' column. Use the hue parameter for the 'cut' column."
   ]
  },
  {
   "cell_type": "code",
   "execution_count": null,
   "id": "702e8114",
   "metadata": {},
   "outputs": [],
   "source": [
    "\n",
    "# Load dataset\n",
    "diamonds = sns.load_dataset(\"diamonds\")\n",
    "\n",
    "# Histogram\n",
    "plt.figure(figsize=(10, 6))\n",
    "sns.histplot(data=diamonds, x=\"price\", hue=\"cut\", kde=True)\n",
    "plt.title(\"Distribution of Diamond Prices by Cut\")\n",
    "plt.show()\n"
   ]
  },
  {
   "cell_type": "markdown",
   "id": "44696e2e",
   "metadata": {},
   "source": [
    "### Que 5: Use the 'iris' dataset from seaborn to plot a pair plot. Use the hue parameter for the 'species' column."
   ]
  },
  {
   "cell_type": "code",
   "execution_count": null,
   "id": "360f112f",
   "metadata": {},
   "outputs": [],
   "source": [
    "\n",
    "# Load dataset\n",
    "iris = sns.load_dataset(\"iris\")\n",
    "\n",
    "# Pair plot\n",
    "sns.pairplot(data=iris, hue=\"species\")\n",
    "plt.show()\n"
   ]
  },
  {
   "cell_type": "markdown",
   "id": "98d08224",
   "metadata": {},
   "source": [
    "### Que 6: Use the 'flights' dataset from seaborn to plot a heatmap."
   ]
  },
  {
   "cell_type": "code",
   "execution_count": null,
   "id": "49fa0ecf",
   "metadata": {},
   "outputs": [],
   "source": [
    "\n",
    "# Load dataset\n",
    "flights = sns.load_dataset(\"flights\")\n",
    "\n",
    "# Pivot for heatmap\n",
    "flights_pivot = flights.pivot(\"month\", \"year\", \"passengers\")\n",
    "\n",
    "# Heatmap\n",
    "plt.figure(figsize=(10, 6))\n",
    "sns.heatmap(flights_pivot, annot=True, fmt=\"d\", cmap=\"coolwarm\")\n",
    "plt.title(\"Number of Passengers Per Month and Year\")\n",
    "plt.show()\n"
   ]
  }
 ],
 "metadata": {},
 "nbformat": 4,
 "nbformat_minor": 5
}
