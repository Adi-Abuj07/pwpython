{
 "cells": [
  {
   "cell_type": "code",
   "execution_count": null,
   "id": "67c08f93-3a3f-4735-93e4-a2b1bdeaf49b",
   "metadata": {},
   "outputs": [],
   "source": [
    "#Q1. What is multiprocessing in python? Why is it useful?\n",
    "\"\"\"Definition: Multiprocessing in Python refers to the ability of a program to create and run multiple processes concurrently. Each process runs independently and has its own memory space, \n",
    "allowing for true parallelism.\n",
    "Usefulness:\n",
    "Parallel Processing: Multiprocessing allows tasks to be split into multiple independent parts that can be executed simultaneously, improving performance for CPU-bound tasks.\n",
    "Improved Performance: By utilizing multiple CPU cores, multiprocessing can significantly reduce the time taken to execute a program compared to using a single process.\n",
    "Concurrency: Multiprocessing enables concurrent execution of multiple processes, which is useful for tasks like web servers handling multiple requests concurrently.\n",
    "Fault Isolation: Each process runs in its own memory space, so errors or crashes in one process do not affect others, improving system stability.\n",
    "Resource Utilization: Utilizes system resources more efficiently by distributing tasks among multiple processes.\n",
    "Overall, multiprocessing in Python is valuable for improving performance and concurrency in applications that can benefit from parallel processing.\"\"\""
   ]
  },
  {
   "cell_type": "code",
   "execution_count": null,
   "id": "701ca869-7067-4720-b32d-9898f715dc75",
   "metadata": {},
   "outputs": [],
   "source": [
    "#Q2. What are the differences between multiprocessing and multithreading?\n",
    "\"\"\"Differences Between Multiprocessing and Multithreading\n",
    "Concurrency Model:\n",
    "\n",
    "Multiprocessing: Uses multiple processes, each with its own memory space and resources.\n",
    "Multithreading: Uses multiple threads within the same process, sharing memory and resources.\n",
    "Resource Allocation:\n",
    "\n",
    "Multiprocessing: Each process has its own memory space, so there is less concern about data sharing and synchronization.\n",
    "Multithreading: Threads share the same memory space, so careful synchronization is required to avoid race conditions.\n",
    "Parallelism:\n",
    "\n",
    "Multiprocessing: Achieves true parallelism by running processes on multiple CPU cores.\n",
    "Multithreading: Limited parallelism due to the Global Interpreter Lock (GIL) in Python, which allows only one thread to execute Python bytecode at a time.\n",
    "Complexity:\n",
    "\n",
    "Multiprocessing: Generally more complex due to the need for inter-process communication (IPC) and data serialization.\n",
    "Multithreading: Can be simpler to implement but requires careful synchronization to avoid concurrency issues.\n",
    "Fault Tolerance:\n",
    "\n",
    "Multiprocessing: More fault-tolerant as a crash in one process does not affect others.\n",
    "Multithreading: A crash in one thread can potentially crash the entire process.\n",
    "Memory Overhead:\n",
    "\n",
    "Multiprocessing: Higher memory overhead due to separate memory spaces for each process.\n",
    "Multithreading: Lower memory overhead as threads share the same memory space.\n",
    "\"\"\""
   ]
  },
  {
   "cell_type": "code",
   "execution_count": 1,
   "id": "c54d7917-8b80-4709-99d5-bf3dcb4a2bd4",
   "metadata": {},
   "outputs": [
    {
     "name": "stdout",
     "output_type": "stream",
     "text": [
      "Square of 5: 25\n",
      "Process completed.\n"
     ]
    }
   ],
   "source": [
    "#Q3. Write a python code to create a process using the multiprocessing module.\n",
    "import multiprocessing\n",
    "\n",
    "def worker(num):\n",
    "    \"\"\"Function to print squares of numbers.\"\"\"\n",
    "    print(f\"Square of {num}: {num ** 2}\")\n",
    "\n",
    "if __name__ == \"__main__\":\n",
    "    # Create a process\n",
    "    process = multiprocessing.Process(target=worker, args=(5,))\n",
    "    \n",
    "    # Start the process\n",
    "    process.start()\n",
    "    \n",
    "    # Wait for the process to finish\n",
    "    process.join()\n",
    "\n",
    "    print(\"Process completed.\")\n"
   ]
  },
  {
   "cell_type": "code",
   "execution_count": null,
   "id": "73611f2d-32fd-4701-bc27-a5b560060138",
   "metadata": {},
   "outputs": [],
   "source": [
    "#Q4. What is a multiprocessing pool in python? Why is it used?\n",
    "\"\"\"Definition: A multiprocessing pool in Python is a way to create a pool of worker processes that can execute tasks concurrently.\n",
    "It provides a simple interface for distributing work across multiple processes.\n",
    "Usefulness:\n",
    "Parallel Processing: Allows tasks to be executed in parallel, improving performance for CPU-bound tasks.\n",
    "Efficient Resource Utilization: Utilizes multiple CPU cores, distributing tasks among them for efficient processing.\n",
    "Simplified Parallelism: Provides a high-level interface for parallel processing, making it easier to parallelize tasks compared to manual process creation and management.\n",
    "Task Distribution: Automatically distributes tasks among the processes in the pool, managing the process creation and communication details internally.\n",
    "Scalability: Easily scales to utilize all available CPU cores, providing better performance on multi-core systems.\"\"\""
   ]
  },
  {
   "cell_type": "code",
   "execution_count": 2,
   "id": "d12a6c59-f899-46d1-b131-1a12ac3c83bc",
   "metadata": {},
   "outputs": [
    {
     "name": "stdout",
     "output_type": "stream",
     "text": [
      "Results: [1, 4, 9, 16, 25]\n"
     ]
    }
   ],
   "source": [
    "#Q5. How can we create a pool of worker processes in python using the multiprocessing module?\n",
    "import multiprocessing\n",
    "\n",
    "def worker(num):\n",
    "    \"\"\"Function to print squares of numbers.\"\"\"\n",
    "    return num ** 2\n",
    "\n",
    "if __name__ == \"__main__\":\n",
    "    # Create a pool of 3 worker processes\n",
    "    with multiprocessing.Pool(processes=3) as pool:\n",
    "        # Distribute the work among the worker processes\n",
    "        results = pool.map(worker, [1, 2, 3, 4, 5])\n",
    "\n",
    "    print(\"Results:\", results)\n"
   ]
  },
  {
   "cell_type": "code",
   "execution_count": null,
   "id": "38f564bb-1f6b-47d3-97d1-d2be4b525116",
   "metadata": {},
   "outputs": [],
   "source": []
  }
 ],
 "metadata": {
  "kernelspec": {
   "display_name": "Python 3 (ipykernel)",
   "language": "python",
   "name": "python3"
  },
  "language_info": {
   "codemirror_mode": {
    "name": "ipython",
    "version": 3
   },
   "file_extension": ".py",
   "mimetype": "text/x-python",
   "name": "python",
   "nbconvert_exporter": "python",
   "pygments_lexer": "ipython3",
   "version": "3.10.8"
  }
 },
 "nbformat": 4,
 "nbformat_minor": 5
}
