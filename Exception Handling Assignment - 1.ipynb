{
 "cells": [
  {
   "cell_type": "code",
   "execution_count": 3,
   "id": "3e1b8fae-4dab-4a1d-b48a-f2ab8a284267",
   "metadata": {},
   "outputs": [
    {
     "name": "stdout",
     "output_type": "stream",
     "text": [
      "You can't divide by zero!\n",
      "This will cause a syntax error\n"
     ]
    }
   ],
   "source": [
    "\n",
    "#Q1. What is an Exception in python? Write the differencee between Exceptions\n",
    "#and syntax errors\n",
    "\"\"\"\n",
    "An exception in Python is an error that occurs during the execution of a program, disrupting its normal flow. \n",
    "Exceptions can be handled using try and except blocks to allow the program to continue running.\n",
    "Differences Between Exceptions and Syntax Errors\n",
    "Nature of Error:\n",
    "Exceptions: Occur at runtime (e.g., ZeroDivisionError, FileNotFoundError).\n",
    "Syntax Errors: Occur during parsing, before execution (e.g., missing colons, incorrect indentation).\n",
    "When They Occur:\n",
    "Exceptions: During execution.\n",
    "Syntax Errors: During code parsing.\n",
    "Handling:\n",
    "Exceptions: Can be handled with try and except blocks.\n",
    "Syntax Errors: Must be fixed in the source code; cannot be handled at runtime.\n",
    "\"\"\"\n",
    "#Example:\n",
    "\n",
    "#Exception:\n",
    "try:\n",
    "    result = 10 / 0\n",
    "except ZeroDivisionError:\n",
    "    print(\"You can't divide by zero!\")\n",
    "    \n",
    "#Syntax Error:\n",
    "if True:\n",
    "    print(\"This will cause a syntax error\")\n",
    "\n"
   ]
  },
  {
   "cell_type": "code",
   "execution_count": 4,
   "id": "e6bde279-9dd8-4510-b04e-0dc0da732225",
   "metadata": {},
   "outputs": [
    {
     "ename": "ZeroDivisionError",
     "evalue": "division by zero",
     "output_type": "error",
     "traceback": [
      "\u001b[0;31m---------------------------------------------------------------------------\u001b[0m",
      "\u001b[0;31mZeroDivisionError\u001b[0m                         Traceback (most recent call last)",
      "Cell \u001b[0;32mIn[4], line 9\u001b[0m\n\u001b[1;32m      6\u001b[0m \u001b[38;5;28;01mdef\u001b[39;00m \u001b[38;5;21mdivide\u001b[39m(a, b):\n\u001b[1;32m      7\u001b[0m     \u001b[38;5;28;01mreturn\u001b[39;00m a \u001b[38;5;241m/\u001b[39m b\n\u001b[0;32m----> 9\u001b[0m result \u001b[38;5;241m=\u001b[39m \u001b[43mdivide\u001b[49m\u001b[43m(\u001b[49m\u001b[38;5;241;43m10\u001b[39;49m\u001b[43m,\u001b[49m\u001b[43m \u001b[49m\u001b[38;5;241;43m0\u001b[39;49m\u001b[43m)\u001b[49m\n\u001b[1;32m     10\u001b[0m \u001b[38;5;28mprint\u001b[39m(\u001b[38;5;124m\"\u001b[39m\u001b[38;5;124mResult:\u001b[39m\u001b[38;5;124m\"\u001b[39m, result)\n\u001b[1;32m     12\u001b[0m \u001b[38;5;124;03m\"\"\"Explanation:\u001b[39;00m\n\u001b[1;32m     13\u001b[0m \u001b[38;5;124;03mUncaught Exception: The divide function raises a ZeroDivisionError.\u001b[39;00m\n\u001b[1;32m     14\u001b[0m \u001b[38;5;124;03mTraceback: Python displays an error message and the program stops.\u001b[39;00m\n\u001b[1;32m     15\u001b[0m \u001b[38;5;124;03m\"\"\"\u001b[39;00m\n",
      "Cell \u001b[0;32mIn[4], line 7\u001b[0m, in \u001b[0;36mdivide\u001b[0;34m(a, b)\u001b[0m\n\u001b[1;32m      6\u001b[0m \u001b[38;5;28;01mdef\u001b[39;00m \u001b[38;5;21mdivide\u001b[39m(a, b):\n\u001b[0;32m----> 7\u001b[0m     \u001b[38;5;28;01mreturn\u001b[39;00m \u001b[43ma\u001b[49m\u001b[43m \u001b[49m\u001b[38;5;241;43m/\u001b[39;49m\u001b[43m \u001b[49m\u001b[43mb\u001b[49m\n",
      "\u001b[0;31mZeroDivisionError\u001b[0m: division by zero"
     ]
    }
   ],
   "source": [
    "#Q2. What happens when an exception is not handled? Explain with an example\n",
    "\"\"\"When an exception is not handled, the program terminates and displays an error message (traceback),\n",
    "indicating the type of exception and where it occurred.\n",
    "\"\"\"\n",
    "#Example:\n",
    "def divide(a, b):\n",
    "    return a / b\n",
    "\n",
    "result = divide(10, 0)\n",
    "print(\"Result:\", result)\n",
    "\n",
    "\"\"\"Explanation:\n",
    "Uncaught Exception: The divide function raises a ZeroDivisionError.\n",
    "Traceback: Python displays an error message and the program stops.\n",
    "\"\"\"\n",
    "\"\"\"Handling the Exception:\n",
    "To prevent the program from crashing, use try and except blocks:\"\"\"\n",
    "\n",
    "def divide(a, b):\n",
    "    try:\n",
    "        return a / b\n",
    "    except ZeroDivisionError:\n",
    "        print(\"Error: Cannot divide by zero.\")\n",
    "        return None\n",
    "\n",
    "result = divide(10, 0)\n",
    "print(\"Result:\", result)\n"
   ]
  },
  {
   "cell_type": "code",
   "execution_count": 6,
   "id": "3696f848-fc39-44eb-84bc-173c2574938a",
   "metadata": {},
   "outputs": [
    {
     "name": "stdout",
     "output_type": "stream",
     "text": [
      "Division successful.\n",
      "Execution completed.\n",
      "Result: 5.0\n",
      "Error: Cannot divide by zero.\n",
      "Execution completed.\n",
      "Result: None\n"
     ]
    },
    {
     "data": {
      "text/plain": [
       "'\\ntry: The try block contains the division operation, which might raise a ZeroDivisionError if b is zero.\\nexcept: If a ZeroDivisionError occurs, the except block executes, printing an error message and returning None.\\nelse: If no exceptions occur, the else block executes, indicating that the division was successful and returning the result.\\nfinally: The finally block executes regardless of whether an exception occurred or not, printing a completion message.\\n'"
      ]
     },
     "execution_count": 6,
     "metadata": {},
     "output_type": "execute_result"
    }
   ],
   "source": [
    "#Q3. Which Python statements are used to catch and handle exceptions? Explain withan example\n",
    "\"\"\"In Python, the try, except, else, and finally statements are used to catch and handle exceptions.\n",
    "try: This block contains code that might raise an exception.\n",
    "except: This block contains code that executes if an exception occurs in the try block.\n",
    "else: This block contains code that executes if no exceptions occur in the try block.\n",
    "finally: This block contains code that executes regardless of whether an exception occurs or not.\"\"\"\n",
    "#Example:\n",
    "def divide(a, b):\n",
    "    try:\n",
    "        result = a / b\n",
    "    except ZeroDivisionError:\n",
    "        print(\"Error: Cannot divide by zero.\")\n",
    "        return None\n",
    "    else:\n",
    "        print(\"Division successful.\")\n",
    "        return result\n",
    "    finally:\n",
    "        print(\"Execution completed.\")\n",
    "\n",
    "result = divide(10, 2)\n",
    "print(\"Result:\", result)\n",
    "\n",
    "result = divide(10, 0)\n",
    "print(\"Result:\", result)\n",
    "\n",
    "#Explanation:\n",
    "\"\"\"\n",
    "try: The try block contains the division operation, which might raise a ZeroDivisionError if b is zero.\n",
    "except: If a ZeroDivisionError occurs, the except block executes, printing an error message and returning None.\n",
    "else: If no exceptions occur, the else block executes, indicating that the division was successful and returning the result.\n",
    "finally: The finally block executes regardless of whether an exception occurred or not, printing a completion message.\n",
    "\"\"\"\n",
    "\n"
   ]
  },
  {
   "cell_type": "code",
   "execution_count": 8,
   "id": "45ab2edb-b50e-4023-9bb1-d92b2d666981",
   "metadata": {},
   "outputs": [
    {
     "name": "stdout",
     "output_type": "stream",
     "text": [
      "Division successful.\n",
      "Result: 5.0\n",
      "Error: Cannot divide by zero.\n",
      "Result: None\n",
      "Execution completed.\n",
      "Result: None\n",
      "Error: Cannot divide by zero.\n",
      "Execution completed.\n",
      "Result: None\n",
      "You are an adult.\n",
      "Error: Age cannot be negative!\n"
     ]
    }
   ],
   "source": [
    "#Q4. Explain withan example:\n",
    "# a.try and else\n",
    "# b.finally\n",
    "#c.raise\n",
    "\"\"\"a. try and else\n",
    "The try block contains code that might raise an exception,\n",
    "and the else block contains code that executes if no exceptions occur in the try block.\n",
    "b. finally\n",
    "The finally block contains code that always executes, \n",
    "regardless of whether an exception occurred or not. It is typically used for cleanup actions.\n",
    "c. raise\n",
    "The raise statement is used to manually trigger an exception in Python.\n",
    "You can use it to raise a specific exception when a certain condition occurs.\n",
    "\"\"\"\n",
    "#Examples:\n",
    "\n",
    "#a.try and else\n",
    "def divide(a, b):\n",
    "    try:\n",
    "        result = a / b\n",
    "    except ZeroDivisionError:\n",
    "        print(\"Error: Cannot divide by zero.\")\n",
    "        return None\n",
    "    else:\n",
    "        print(\"Division successful.\")\n",
    "        return result\n",
    "result = divide(10, 2)\n",
    "print(\"Result:\", result)\n",
    "result = divide(10, 0)\n",
    "print(\"Result:\", result)\n",
    "\n",
    "#b. finally\n",
    "def divide(a, b):\n",
    "    try:\n",
    "        result = a / b\n",
    "    except ZeroDivisionError:\n",
    "        print(\"Error: Cannot divide by zero.\")\n",
    "        return None\n",
    "    finally:\n",
    "        print(\"Execution completed.\")\n",
    "result = divide(10, 2)\n",
    "print(\"Result:\", result)\n",
    "result = divide(10, 0)\n",
    "print(\"Result:\", result)\n",
    "\n",
    "#c.raise\n",
    "def check_age(age):\n",
    "    if age < 0:\n",
    "        raise ValueError(\"Age cannot be negative!\")\n",
    "    elif age < 18:\n",
    "        print(\"You are a minor.\")\n",
    "    else:\n",
    "        print(\"You are an adult.\")\n",
    "try:\n",
    "    check_age(25)\n",
    "    check_age(-5)\n",
    "except ValueError as e:\n",
    "    print(\"Error:\", e)\n",
    "\n",
    "\n",
    "\n",
    "\n"
   ]
  },
  {
   "cell_type": "code",
   "execution_count": 10,
   "id": "4fbae473-d9fa-45d3-899c-90711302678c",
   "metadata": {},
   "outputs": [
    {
     "name": "stdout",
     "output_type": "stream",
     "text": [
      "You are an adult.\n",
      "Error: Age cannot be negative! Age given: -5\n"
     ]
    }
   ],
   "source": [
    "#Q5. What are Custom Exceptions in python? Why do we need Custom Exceptions? Explain with an example\n",
    "\"\"\"Custom exceptions are user-defined error types that allow you to create specific,\n",
    "meaningful error messages for your application.\n",
    "Why Custom Exceptions?\n",
    "Clarity: Makes code easier to understand.\n",
    "Specificity: Handles specific error conditions precisely.\n",
    "Organization: Manages error handling in larger codebases.\n",
    "\"\"\"\n",
    "#Define a Custom Exception:\n",
    "class NegativeAgeError(Exception):\n",
    "    \"\"\"Exception raised for errors in the input age.\"\"\"\n",
    "    def __init__(self, age, message=\"Age cannot be negative!\"):\n",
    "        self.age = age\n",
    "        self.message = message\n",
    "        super().__init__(self.message)\n",
    "        \n",
    "#Use the Custom Exception:\n",
    "def check_age(age):\n",
    "    if age < 0:\n",
    "        raise NegativeAgeError(age)\n",
    "    elif age < 18:\n",
    "        print(\"You are a minor.\")\n",
    "    else:\n",
    "        print(\"You are an adult.\")\n",
    "try:\n",
    "    check_age(25)\n",
    "    check_age(-5)\n",
    "except NegativeAgeError as e:\n",
    "    print(f\"Error: {e.message} Age given: {e.age}\")\n",
    "\n"
   ]
  },
  {
   "cell_type": "code",
   "execution_count": 11,
   "id": "a40e86bf-1ff2-486e-bb2d-4f0d53876cf8",
   "metadata": {},
   "outputs": [
    {
     "name": "stdout",
     "output_type": "stream",
     "text": [
      "Custom error occurred: Value 2 is too small. It should be greater than 5.\n"
     ]
    }
   ],
   "source": [
    "#Q6. Create custom exception  class. Use this class to handle an exception.\n",
    "#Define Custom Exception Class:\n",
    "class CustomError(Exception):\n",
    "    pass\n",
    "class ValueTooSmallError(CustomError):\n",
    "    def __init__(self, value):\n",
    "        self.value = value\n",
    "        self.message = f\"Value {value} is too small. It should be greater than 5.\"\n",
    "        super().__init__(self.message)\n",
    "class ValueTooLargeError(CustomError):\n",
    "    def __init__(self, value):\n",
    "        self.value = value\n",
    "        self.message = f\"Value {value} is too large. It should be less than 50.\"\n",
    "        super().__init__(self.message)\n",
    "\n",
    "#Using the Custom Exception:\n",
    "def check_value(value):\n",
    "    if value < 5:\n",
    "        raise ValueTooSmallError(value)\n",
    "    elif value > 50:\n",
    "        raise ValueTooLargeError(value)\n",
    "    else:\n",
    "        print(\"Value is within the acceptable range.\")\n",
    "try:\n",
    "    check_value(2)\n",
    "except CustomError as e:\n",
    "    print(f\"Custom error occurred: {e.message}\")\n",
    "\n"
   ]
  },
  {
   "cell_type": "code",
   "execution_count": null,
   "id": "1ea51bfc-c845-4b7c-b9c0-919dfe3ccba4",
   "metadata": {},
   "outputs": [],
   "source": []
  }
 ],
 "metadata": {
  "kernelspec": {
   "display_name": "Python 3 (ipykernel)",
   "language": "python",
   "name": "python3"
  },
  "language_info": {
   "codemirror_mode": {
    "name": "ipython",
    "version": 3
   },
   "file_extension": ".py",
   "mimetype": "text/x-python",
   "name": "python",
   "nbconvert_exporter": "python",
   "pygments_lexer": "ipython3",
   "version": "3.10.8"
  }
 },
 "nbformat": 4,
 "nbformat_minor": 5
}
