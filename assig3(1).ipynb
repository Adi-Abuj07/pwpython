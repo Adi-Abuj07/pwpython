{
 "cells": [
  {
   "cell_type": "code",
   "execution_count": 1,
   "id": "7951a746-eab8-4811-8a07-af75d2c8650c",
   "metadata": {},
   "outputs": [],
   "source": [
    "#Q1. Which keyword is used to create a function? Create a function to return a list of odd numbers in the\n",
    "#range of 1 to 25.\n",
    "def odd(x):\n",
    "    l1=[]\n",
    "    for i in range(1,x+1):\n",
    "        if(i%2!=0):\n",
    "            l1.append(i)\n",
    "    return l1"
   ]
  },
  {
   "cell_type": "code",
   "execution_count": 2,
   "id": "1c032010-0db9-4da6-9e16-6f8e23c69235",
   "metadata": {},
   "outputs": [
    {
     "data": {
      "text/plain": [
       "[1, 3, 5, 7, 9, 11, 13, 15, 17, 19, 21, 23, 25]"
      ]
     },
     "execution_count": 2,
     "metadata": {},
     "output_type": "execute_result"
    }
   ],
   "source": [
    "odd(25)"
   ]
  },
  {
   "cell_type": "code",
   "execution_count": 4,
   "id": "4276e1be-12e0-4bd1-b96e-a4463aafd7aa",
   "metadata": {},
   "outputs": [],
   "source": [
    "#Q2. Why *args and **kwargs is used in some functions? Create a function each for *args and **kwargs\n",
    "#to demonstrate their use.\n",
    "\n",
    "def demo1(*args):\n",
    "    \"\"\"a function for *args to demonstrate its use.\"\"\"\n",
    "    index=0\n",
    "    for i in args:\n",
    "        print(\"The args[\"+str(index)+\"] having:\",i)\n",
    "        index+=1"
   ]
  },
  {
   "cell_type": "code",
   "execution_count": 5,
   "id": "53a3c643-3b35-4946-abc5-c6348f9eb936",
   "metadata": {},
   "outputs": [
    {
     "name": "stdout",
     "output_type": "stream",
     "text": [
      "The args[0] having: Hi\n",
      "The args[1] having: There\n",
      "The args[2] having: This is test\n",
      "The args[3] having: 1\n"
     ]
    }
   ],
   "source": [
    "demo1(\"Hi\", \"There\", \"This is test\", 1)"
   ]
  },
  {
   "cell_type": "code",
   "execution_count": 6,
   "id": "5e609a92-40de-4bea-80e4-ddc37d1bd58e",
   "metadata": {},
   "outputs": [
    {
     "name": "stdout",
     "output_type": "stream",
     "text": [
      "Firstname == Adii\n",
      "Lastname == Abuj\n",
      "Age == 21\n",
      "Phone == 12835537\n"
     ]
    }
   ],
   "source": [
    "def myfun(**kwargs):\n",
    "    type(kwargs)\n",
    "    for key,value in kwargs.items():\n",
    "        print(\"{} == {}\".format(key, value))\n",
    "\n",
    "myfun(Firstname=\"Adii\", Lastname=\"Abuj\", Age=21, Phone=12835537)"
   ]
  },
  {
   "cell_type": "code",
   "execution_count": 8,
   "id": "f8ce2054-83b8-4d12-8952-e3f4ceaf2e05",
   "metadata": {},
   "outputs": [
    {
     "name": "stdout",
     "output_type": "stream",
     "text": [
      "2\n",
      "4\n",
      "6\n",
      "8\n",
      "10\n"
     ]
    }
   ],
   "source": [
    "#Q3. What is an iterator in python? Name the method used to initialise the iterator object and the method\n",
    "    #used for iteration. Use these methods to print the first five elements of the given list [2, 4, 6, 8, 10, 12, 14,\n",
    "    #16, 18, 20].\n",
    "l= [2, 4, 6, 8, 10, 12, 14,16, 18, 20]\n",
    "iterator=iter(l)\n",
    "for i in range(5):\n",
    "    element=next(iterator)\n",
    "    print(element)"
   ]
  },
  {
   "cell_type": "code",
   "execution_count": 9,
   "id": "f15f5701-6d7d-4dc9-9bc2-b67bc4ba7a00",
   "metadata": {},
   "outputs": [],
   "source": [
    "#Q4. What is a generator function in python? Why yield keyword is used? Give an example of a generator function.\n",
    "''' generator function is the same as the function.but we can use yield function to print the value for example'''\n",
    "def my(n):\n",
    "    for i in range(n):\n",
    "        yield(i)"
   ]
  },
  {
   "cell_type": "code",
   "execution_count": 10,
   "id": "5aef318b-6d9c-48d1-9a5b-28df10b3e914",
   "metadata": {},
   "outputs": [
    {
     "name": "stdout",
     "output_type": "stream",
     "text": [
      "0\n",
      "1\n",
      "2\n",
      "3\n",
      "4\n",
      "5\n",
      "6\n",
      "7\n",
      "8\n",
      "9\n"
     ]
    }
   ],
   "source": [
    "for i in my(10):\n",
    "    print(i)"
   ]
  },
  {
   "cell_type": "code",
   "execution_count": 11,
   "id": "9e396aa3-5d04-4488-8b85-ba22e5ae0ac6",
   "metadata": {},
   "outputs": [],
   "source": [
    "def fab(n):\n",
    "    a,b=0,1\n",
    "    for i in range(n):\n",
    "        yield a\n",
    "        c=a+b\n",
    "        a=b\n",
    "        b=c"
   ]
  },
  {
   "cell_type": "code",
   "execution_count": 12,
   "id": "add78cc0-f3f9-4581-8eab-1b5a95f0c0ae",
   "metadata": {},
   "outputs": [
    {
     "name": "stdout",
     "output_type": "stream",
     "text": [
      "0\n",
      "1\n",
      "1\n",
      "2\n",
      "3\n",
      "5\n",
      "8\n",
      "13\n",
      "21\n",
      "34\n"
     ]
    }
   ],
   "source": [
    "for i in fab(10):\n",
    "    print(i)"
   ]
  },
  {
   "cell_type": "code",
   "execution_count": 13,
   "id": "6c170df8-4a09-4c09-a1f1-3daec1a22bf2",
   "metadata": {},
   "outputs": [
    {
     "name": "stdout",
     "output_type": "stream",
     "text": [
      "2\n",
      "3\n",
      "5\n",
      "7\n",
      "11\n",
      "13\n",
      "17\n",
      "19\n",
      "23\n",
      "29\n",
      "31\n",
      "37\n",
      "41\n",
      "43\n",
      "47\n",
      "53\n",
      "59\n",
      "61\n",
      "67\n",
      "71\n"
     ]
    }
   ],
   "source": [
    "#Q5. Create a generator function for prime numbers less than 1000. Use the next() method to print the\n",
    "#first 20 prime numbers.\n",
    "def test():\n",
    "    l3=[]\n",
    "    for i in range(2,1001):\n",
    "        for j in l3:\n",
    "            if i % j==0:\n",
    "                break\n",
    "        else:\n",
    "            l3.append(i)\n",
    "            yield i\n",
    "prime_gen = test()\n",
    "# the next() method to print the first 20 prime numbers.\n",
    "for s in range(20):\n",
    "    print(next(prime_gen))\n"
   ]
  },
  {
   "cell_type": "code",
   "execution_count": 14,
   "id": "faf9f574-f75e-4290-b4cb-7c88f816de10",
   "metadata": {},
   "outputs": [],
   "source": [
    "#Q6. Write a python program to print the first 10 Fibonacci numbers using a while loop.\n",
    "def my():\n",
    "    a,b=1,1\n",
    "    while True:\n",
    "        yield a\n",
    "        a,b=b,a+b"
   ]
  },
  {
   "cell_type": "code",
   "execution_count": 15,
   "id": "02cc81bf-9000-4823-891c-20258c46fa6d",
   "metadata": {},
   "outputs": [],
   "source": [
    "b=my()"
   ]
  },
  {
   "cell_type": "code",
   "execution_count": 16,
   "id": "8c5ee4d5-643c-4967-a643-bdc522bb3623",
   "metadata": {},
   "outputs": [
    {
     "name": "stdout",
     "output_type": "stream",
     "text": [
      "1\n",
      "1\n",
      "2\n",
      "3\n",
      "5\n",
      "8\n",
      "13\n",
      "21\n",
      "34\n",
      "55\n"
     ]
    }
   ],
   "source": [
    "for i in range(10):\n",
    "    print(next(b))\n",
    "    "
   ]
  },
  {
   "cell_type": "code",
   "execution_count": 17,
   "id": "1ba381ce-cba0-411a-bdbe-f95ff4df51e5",
   "metadata": {},
   "outputs": [],
   "source": [
    "#Q7. Write a List Comprehension to iterate through the given string: ‘pwskills’.\n",
    "#Expected output: ['p', 'w', 's', 'k', 'i', 'l', 'l', 's']   \n",
    "s=\"pwskills\""
   ]
  },
  {
   "cell_type": "code",
   "execution_count": 18,
   "id": "3dfc2330-6cb6-4b69-9219-eff7d3675e13",
   "metadata": {},
   "outputs": [
    {
     "data": {
      "text/plain": [
       "['p', 'w', 's', 'k', 'i', 'l', 'l', 's']"
      ]
     },
     "execution_count": 18,
     "metadata": {},
     "output_type": "execute_result"
    }
   ],
   "source": [
    "list(s)"
   ]
  },
  {
   "cell_type": "code",
   "execution_count": 26,
   "id": "6a7acb70-108c-4db5-b04f-dfaa18ac7d17",
   "metadata": {},
   "outputs": [
    {
     "name": "stdout",
     "output_type": "stream",
     "text": [
      "121 Number palindrome\n"
     ]
    }
   ],
   "source": [
    "#Q8. Write a python program to check whether a given number is Palindrome or not using a while loop.\n",
    "s=121\n",
    "s1=s\n",
    "number=0\n",
    "while s>0:\n",
    "    temp=s%10\n",
    "    number=number*10+temp\n",
    "    s=s//10\n",
    "if(number==s1):\n",
    "    print(s1,\"Number is palindrome\")\n",
    "else:\n",
    "    print(\"not palindrome\")"
   ]
  },
  {
   "cell_type": "code",
   "execution_count": 27,
   "id": "41b28eb7-da00-4436-8a38-142630f8f186",
   "metadata": {},
   "outputs": [],
   "source": [
    "#Q9. Write a code to print odd numbers from 1 to 100 using list comprehension.\n",
    "l1=[]\n",
    "for i in range(100):\n",
    "    l1.append(i)\n",
    "    "
   ]
  },
  {
   "cell_type": "code",
   "execution_count": 28,
   "id": "d802feae-dd11-4191-bcd3-c1a8352ea1df",
   "metadata": {},
   "outputs": [],
   "source": [
    "def my(a):\n",
    "    l2=[]\n",
    "    for i in a:\n",
    "        if(i%2!=0):\n",
    "            l2.append(i)\n",
    "    return l2       "
   ]
  },
  {
   "cell_type": "code",
   "execution_count": 29,
   "id": "fab192a1-c101-4a1e-a9de-f920aa7e6c5c",
   "metadata": {},
   "outputs": [
    {
     "data": {
      "text/plain": [
       "[1,\n",
       " 3,\n",
       " 5,\n",
       " 7,\n",
       " 9,\n",
       " 11,\n",
       " 13,\n",
       " 15,\n",
       " 17,\n",
       " 19,\n",
       " 21,\n",
       " 23,\n",
       " 25,\n",
       " 27,\n",
       " 29,\n",
       " 31,\n",
       " 33,\n",
       " 35,\n",
       " 37,\n",
       " 39,\n",
       " 41,\n",
       " 43,\n",
       " 45,\n",
       " 47,\n",
       " 49,\n",
       " 51,\n",
       " 53,\n",
       " 55,\n",
       " 57,\n",
       " 59,\n",
       " 61,\n",
       " 63,\n",
       " 65,\n",
       " 67,\n",
       " 69,\n",
       " 71,\n",
       " 73,\n",
       " 75,\n",
       " 77,\n",
       " 79,\n",
       " 81,\n",
       " 83,\n",
       " 85,\n",
       " 87,\n",
       " 89,\n",
       " 91,\n",
       " 93,\n",
       " 95,\n",
       " 97,\n",
       " 99]"
      ]
     },
     "execution_count": 29,
     "metadata": {},
     "output_type": "execute_result"
    }
   ],
   "source": [
    "my(l1)"
   ]
  },
  {
   "cell_type": "code",
   "execution_count": null,
   "id": "2bd69336-6b2f-4fc6-90e5-c52d42b36256",
   "metadata": {},
   "outputs": [],
   "source": []
  },
  {
   "cell_type": "code",
   "execution_count": null,
   "id": "f74d1372-70f2-45d0-ad5e-b2e97cdfd70f",
   "metadata": {},
   "outputs": [],
   "source": []
  }
 ],
 "metadata": {
  "kernelspec": {
   "display_name": "Python 3 (ipykernel)",
   "language": "python",
   "name": "python3"
  },
  "language_info": {
   "codemirror_mode": {
    "name": "ipython",
    "version": 3
   },
   "file_extension": ".py",
   "mimetype": "text/x-python",
   "name": "python",
   "nbconvert_exporter": "python",
   "pygments_lexer": "ipython3",
   "version": "3.10.8"
  }
 },
 "nbformat": 4,
 "nbformat_minor": 5
}
