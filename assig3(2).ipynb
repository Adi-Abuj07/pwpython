{
 "cells": [
  {
   "cell_type": "code",
   "execution_count": 5,
   "id": "a82007e1-321f-467f-a4ce-8bf60ad0e6b4",
   "metadata": {},
   "outputs": [
    {
     "name": "stdout",
     "output_type": "stream",
     "text": [
      "Sorted list of tuples:\n",
      "[('Virat Kohli', 24936), ('Jack Kallis', 25534), ('Ricky Ponting', 27483), ('Sachin Tendulkar', 34357)]\n"
     ]
    }
   ],
   "source": [
    "#Q1. Create a python program to sort the given list of tuples based on integer value using a\n",
    "#lambda function.\n",
    "#[('Sachin Tendulkar', 34357), ('Ricky Ponting', 27483), ('Jack Kallis', 25534), ('Virat Kohli', 24936)]\n",
    "players = [('Sachin Tendulkar', 34357), ('Ricky Ponting', 27483), ('Jack Kallis', 25534), ('Virat Kohli', 24936)]\n",
    "players.sort(key=lambda x:x[1])\n",
    "print(\"Sorted list of tuples:\")\n",
    "print(players)"
   ]
  },
  {
   "cell_type": "code",
   "execution_count": 13,
   "id": "6508597a-b331-4405-9ec3-fda0a5c04e91",
   "metadata": {},
   "outputs": [
    {
     "data": {
      "text/plain": [
       "[1, 4, 9, 16, 25, 36, 49, 64, 81, 100]"
      ]
     },
     "execution_count": 13,
     "metadata": {},
     "output_type": "execute_result"
    }
   ],
   "source": [
    "#Q2.Write a Python Program to find the squares of all the numbers in the given list of integers using\n",
    "#lambda and map functions.[1, 2, 3, 4, 5, 6, 7, 8, 9, 10]\n",
    "l=[1, 2, 3, 4, 5, 6, 7, 8, 9, 10]\n",
    "list(map(lambda x:x**2,l))"
   ]
  },
  {
   "cell_type": "code",
   "execution_count": 17,
   "id": "9175ac56-9068-4816-a5e9-08f6a09093fe",
   "metadata": {},
   "outputs": [
    {
     "data": {
      "text/plain": [
       "('1', '2', '3', '4', '5', '6', '7', '8', '9', '10')"
      ]
     },
     "execution_count": 17,
     "metadata": {},
     "output_type": "execute_result"
    }
   ],
   "source": [
    "#Q3. Write a python program to convert the given list of integers into a tuple of strings. Use map and\n",
    "#lambda functions Given String: [1, 2, 3, 4, 5, 6, 7, 8, 9, 10]\n",
    "#Expected output: ('1', '2', '3', '4', '5', '6', '7', '8', '9', '10')\n",
    "l=[1, 2, 3, 4, 5, 6, 7, 8, 9, 10]\n",
    "tuple(map(lambda x:str(x),l))"
   ]
  },
  {
   "cell_type": "code",
   "execution_count": 18,
   "id": "d38811d5-22a3-45be-9a07-69f34c03a89e",
   "metadata": {},
   "outputs": [
    {
     "name": "stdout",
     "output_type": "stream",
     "text": [
      "The product of the list is: 15511210043330985984000000\n"
     ]
    }
   ],
   "source": [
    "#Q4.Write a python program using reduce function to compute the product of a list containing numbers\n",
    "#from 1 to 25.\n",
    "from functools import reduce\n",
    "numbers = list(range(1, 26))\n",
    "product = reduce(lambda x, y: x * y, numbers)\n",
    "print(\"The product of the list is:\", product)\n"
   ]
  },
  {
   "cell_type": "code",
   "execution_count": 26,
   "id": "18640f69-2754-4c0b-b7d3-83c1612456c5",
   "metadata": {},
   "outputs": [
    {
     "data": {
      "text/plain": [
       "[6, 60, 90, 120]"
      ]
     },
     "execution_count": 26,
     "metadata": {},
     "output_type": "execute_result"
    }
   ],
   "source": [
    "#Q5.Write a python program to filter the numbers in a given list that are divisible by 2 and 3 using the\n",
    "#filter function.[2, 3, 6, 9, 27, 60, 90, 120, 55, 46]\n",
    "l1=[2, 3, 6, 9, 27, 60, 90, 120, 55, 46]\n",
    "list(filter(lambda x:x%2==0 and x%3==0,l1))"
   ]
  },
  {
   "cell_type": "code",
   "execution_count": 27,
   "id": "bcf0643b-37d2-45fb-88d6-d43ea2496e99",
   "metadata": {},
   "outputs": [
    {
     "name": "stdout",
     "output_type": "stream",
     "text": [
      "Palindromes in the list: ['php', 'aba', 'radar', 'level']\n"
     ]
    }
   ],
   "source": [
    "#Q6. Write a python program to find palindromes in the given list of strings using lambda and filter\n",
    "#function.['python', 'php', 'aba', 'radar', 'level']\n",
    "# Define the list of strings\n",
    "strings = ['python', 'php', 'aba', 'radar', 'level']\n",
    "palindromes = list(filter(lambda x: x == ''.join(reversed(x)), strings))\n",
    "print(\"Palindromes in the list:\", palindromes)\n"
   ]
  },
  {
   "cell_type": "code",
   "execution_count": null,
   "id": "d6e4c7ef-f3de-495e-9441-7dc2c07e3a74",
   "metadata": {},
   "outputs": [],
   "source": []
  }
 ],
 "metadata": {
  "kernelspec": {
   "display_name": "Python 3 (ipykernel)",
   "language": "python",
   "name": "python3"
  },
  "language_info": {
   "codemirror_mode": {
    "name": "ipython",
    "version": 3
   },
   "file_extension": ".py",
   "mimetype": "text/x-python",
   "name": "python",
   "nbconvert_exporter": "python",
   "pygments_lexer": "ipython3",
   "version": "3.10.8"
  }
 },
 "nbformat": 4,
 "nbformat_minor": 5
}
