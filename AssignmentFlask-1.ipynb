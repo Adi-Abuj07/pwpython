{
 "cells": [
  {
   "cell_type": "code",
   "execution_count": null,
   "id": "9cbd34ec-2c9a-4dcd-b692-320f40bb0855",
   "metadata": {},
   "outputs": [],
   "source": [
    "Q1. What is Flask Framework? What are the advantages of Flask Framework?\n",
    "Flask Framework:\n",
    "Flask is a lightweight, flexible web framework for Python.\n",
    "Designed for simplicity and ease of use, ideal for small to medium web applications.\n",
    "Based on Werkzeug WSGI toolkit and Jinja2 template engine.\n",
    "Advantages of Flask Framework:\n",
    "Simplicity: Easy to understand and use, making it great for beginners.\n",
    "Lightweight: Minimal core with the ability to add extensions as needed.\n",
    "Flexibility: Highly customizable, allowing developers to choose components.\n",
    "Built-in Development Server: Convenient for testing and debugging locally.\n",
    "Extensive Documentation: Well-organized docs and a large community for support.\n",
    "Scalability: Can handle larger applications with proper design and extensions.\n",
    "Compatibility: Works well with other Python libraries and frameworks.\n",
    "RESTful Support: Easily build RESTful APIs, especially with Flask-RESTful.\n",
    "Active Community: Vibrant community contributing extensions, plugins, and tutorials."
   ]
  },
  {
   "cell_type": "code",
   "execution_count": null,
   "id": "4fbe301d-4763-4f3c-866e-90509ef1a87f",
   "metadata": {},
   "outputs": [],
   "source": [
    "#Q2. Create a simple Flask application to display ‘Hello World!!’. Attach the screenshot of the output in\n",
    "#Jupyter Notebook.\n",
    "from flask import Flask\n",
    "app = Flask(__name__)\n",
    "@app.route(\"/\")\n",
    "def hello_world():\n",
    "    return \"<h1>Hello, World!</h1>\"\n",
    "if __name__==\"__main__\":\n",
    "    app.run(host=\"0.0.0.0\")\n"
   ]
  },
  {
   "cell_type": "code",
   "execution_count": null,
   "id": "be369ee1-704e-424b-a9de-ba3139626e45",
   "metadata": {},
   "outputs": [],
   "source": [
    "Q3. What is App Routing in Flask? Why do we use App Routes?\n",
    "App Routing in Flask:\n",
    "App routing maps URLs to specific functions in a Flask application using the @app.route decorator.\n",
    "Why Use App Routes?\n",
    "URL Mapping: Maps URLs to view functions.\n",
    "Organization: Organizes code by associating URLs with handlers.\n",
    "Dynamic URLs: Handles dynamic URLs with variable parts.\n",
    "RESTful APIs: Builds RESTful APIs with different routes as endpoints.\n",
    "Readability: Improves code readability and maintainability."
   ]
  },
  {
   "cell_type": "code",
   "execution_count": null,
   "id": "680a3971-17a7-4890-8580-17eb072dab88",
   "metadata": {},
   "outputs": [],
   "source": [
    "\n",
    "\"\"\"Q4. Create a “/welcome” route to display the welcome message “Welcome to ABC Corporation” and a “/”\n",
    "route to show the following details:\n",
    "Company Name: ABC Corporation\n",
    "Location: India\n",
    "Contact Detail: 999-999-9999\"\"\"\n",
    "\n",
    "from flask import Flask\n",
    "app = Flask(__name__)\n",
    "\n",
    "@app.route('/welcome')\n",
    "def welcome():\n",
    "    return 'Welcome to ABC Corporation'\n",
    "\n",
    "@app.route('/')\n",
    "def home():\n",
    "    return '''<h1>Company Name: ABC Corporation</h1>\n",
    "              <p>Location: India</p>\n",
    "              <p>Contact Detail: 999-999-9999</p>'''\n",
    "\n",
    "if __name__ == '__main__':\n",
    "    app.run(debug=True)\n"
   ]
  },
  {
   "cell_type": "code",
   "execution_count": null,
   "id": "8b4dcf93-9485-4f78-bdaf-e19272dfb7ce",
   "metadata": {},
   "outputs": [],
   "source": [
    "#Q5. What function is used in Flask for URL Building? Write a Python code to demonstrate the working of the\n",
    "#url_for() function.\n",
    "url_for() is used in Flask for URL building. It generates a URL to the endpoint of a given function with any arguments needed for the URL.\n",
    "Example:\n",
    "from flask import Flask, url_for, redirect\n",
    "app = Flask(__name__)\n",
    "@app.route('/')\n",
    "def home():\n",
    "    return 'This is the home page'\n",
    "@app.route('/welcome')\n",
    "def welcome():\n",
    "    return 'Welcome to ABC Corporation'\n",
    "\n",
    "@app.route('/redirect_home')\n",
    "def redirect_home():\n",
    "    return redirect(url_for('home'))\n",
    "\n",
    "@app.route('/user/<username>')\n",
    "def show_user_profile(username):\n",
    "    return f'User: {username}'\n",
    "if __name__ == '__main__':\n",
    "    with app.test_request_context():\n",
    "        print(url_for('home'))  \n",
    "        print(url_for('welcome')) \n",
    "        print(url_for('show_user_profile', username='JohnDoe'))  \n",
    "        print(url_for('show_user_profile', username='JaneDoe')) \n",
    "        print(url_for('redirect_home'))\n",
    "    app.run(debug=True)\n",
    "Explanation:\n",
    "url_for('home'): Generates URL for home() -> /\n",
    "url_for('welcome'): Generates URL for welcome() -> /welcome\n",
    "url_for('show_user_profile', username='JohnDoe'): Generates URL for show_user_profile('JohnDoe') -> `/"
   ]
  }
 ],
 "metadata": {
  "kernelspec": {
   "display_name": "Python 3 (ipykernel)",
   "language": "python",
   "name": "python3"
  },
  "language_info": {
   "codemirror_mode": {
    "name": "ipython",
    "version": 3
   },
   "file_extension": ".py",
   "mimetype": "text/x-python",
   "name": "python",
   "nbconvert_exporter": "python",
   "pygments_lexer": "ipython3",
   "version": "3.10.8"
  }
 },
 "nbformat": 4,
 "nbformat_minor": 5
}
