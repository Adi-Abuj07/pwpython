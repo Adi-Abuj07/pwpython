{
 "cells": [
  {
   "cell_type": "code",
   "execution_count": 1,
   "id": "43c7607a-caf5-4723-8794-de00a8149506",
   "metadata": {},
   "outputs": [],
   "source": [
    "# Q1, Create a vehicle class with an init method having instance variables as name_of_vehicle, max_speed\n",
    "# and average_of_vehicle.\n",
    "class Vehicle:\n",
    "    def __init__(self, name_of_vehicle, max_speed, average_of_vehicle):\n",
    "        self.name_of_vehicle = name_of_vehicle\n",
    "        self.max_speed = max_speed\n",
    "        self.average_of_vehicle = average_of_vehicle\n"
   ]
  },
  {
   "cell_type": "code",
   "execution_count": 5,
   "id": "01e89ae8-6353-450d-b1c5-38760c927b05",
   "metadata": {},
   "outputs": [
    {
     "name": "stdout",
     "output_type": "stream",
     "text": [
      "The Toyota innova has a seating capacity of 7 passengers.\n"
     ]
    }
   ],
   "source": [
    "# Create a child class car from the vehicle class created in Que 1, which will inherit the vehicle class.\n",
    "# Create a method named seating_capacity which takes capacity as an argument and returns the name of\n",
    "# the vehicle and its seating capacity.\n",
    "class Car(Vehicle):\n",
    "    def seating_capacity(self, capacity):\n",
    "        return f\"The {self.name_of_vehicle} has a seating capacity of {capacity} passengers.\"\n",
    "\n",
    "car = Car(\"Toyota innova\", 180, 25)\n",
    "print(car.seating_capacity(7)) "
   ]
  },
  {
   "cell_type": "code",
   "execution_count": 6,
   "id": "1ff2d3c2-3289-4934-adcb-fe566f737665",
   "metadata": {},
   "outputs": [
    {
     "name": "stdout",
     "output_type": "stream",
     "text": [
      "Method A\n",
      "Method B\n",
      "Method C\n"
     ]
    }
   ],
   "source": [
    "# Q3. What is multiple inheritance? Write a python code to demonstrate multiple inheritance.\n",
    "class A:\n",
    "    def method_a(self):\n",
    "        print(\"Method A\")\n",
    "\n",
    "class B:\n",
    "    def method_b(self):\n",
    "        print(\"Method B\")\n",
    "\n",
    "class C(A, B):\n",
    "    def method_c(self):\n",
    "        print(\"Method C\")\n",
    "\n",
    "c = C()\n",
    "c.method_a()  \n",
    "c.method_b()  \n",
    "c.method_c()  \n"
   ]
  },
  {
   "cell_type": "code",
   "execution_count": 8,
   "id": "c6038cd2-2ea7-4733-8295-247cfe7dd496",
   "metadata": {},
   "outputs": [
    {
     "name": "stdout",
     "output_type": "stream",
     "text": [
      "0\n",
      "10\n"
     ]
    }
   ],
   "source": [
    "# Q4: Getter and setter methods are used to access and modify the attributes of a class respectively. Here's a simple example:\n",
    "class Example:\n",
    "    def __init__(self):\n",
    "        self._value = 0\n",
    "\n",
    "    def get_value(self):\n",
    "        return self._value\n",
    "\n",
    "    def set_value(self, value):\n",
    "        self._value = value\n",
    "\n",
    "obj = Example()\n",
    "print(obj.get_value()) \n",
    "obj.set_value(10)\n",
    "print(obj.get_value())  \n"
   ]
  },
  {
   "cell_type": "code",
   "execution_count": 9,
   "id": "5ea52ef8-2d6e-4fa8-bd2b-466515b9e685",
   "metadata": {},
   "outputs": [
    {
     "name": "stdout",
     "output_type": "stream",
     "text": [
      "Hello from Child\n"
     ]
    }
   ],
   "source": [
    "# Q5: Method overriding in Python is a feature that allows a subclass to provide a specific implementation of a method that is already provided by its superclass. Here's a simple example:\n",
    "class Parent:\n",
    "    def greet(self):\n",
    "        print(\"Hello from Parent\")\n",
    "\n",
    "class Child(Parent):\n",
    "    def greet(self):\n",
    "        print(\"Hello from Child\")\n",
    "\n",
    "\n",
    "child = Child()\n",
    "child.greet() \n"
   ]
  },
  {
   "cell_type": "code",
   "execution_count": null,
   "id": "0ce1ffdd-1927-4815-9b8f-18a3d9ee612f",
   "metadata": {},
   "outputs": [],
   "source": []
  }
 ],
 "metadata": {
  "kernelspec": {
   "display_name": "Python 3 (ipykernel)",
   "language": "python",
   "name": "python3"
  },
  "language_info": {
   "codemirror_mode": {
    "name": "ipython",
    "version": 3
   },
   "file_extension": ".py",
   "mimetype": "text/x-python",
   "name": "python",
   "nbconvert_exporter": "python",
   "pygments_lexer": "ipython3",
   "version": "3.10.8"
  }
 },
 "nbformat": 4,
 "nbformat_minor": 5
}
