{
 "cells": [
  {
   "cell_type": "code",
   "execution_count": null,
   "id": "5a0327a5",
   "metadata": {},
   "outputs": [],
   "source": [
    "# Q1: Print the data present in the second row of the dataframe\n",
    "import pandas as pd\n",
    "course_name = ['Data Science', 'Machine Learning', 'Big Data', 'Data Engineer']\n",
    "duration = [2,3,6,4]\n",
    "df = pd.DataFrame({'course_name': course_name, 'duration': duration})\n",
    "print(df.iloc[1])"
   ]
  },
  {
   "cell_type": "code",
   "execution_count": null,
   "id": "c7f6c2bc",
   "metadata": {},
   "outputs": [],
   "source": [
    "# Q3: Reindex the DataFrame and print specific rows\n",
    "reindex = [3,0,1,2]\n",
    "new_df = df.reindex(reindex)\n",
    "print(new_df.loc[2])\n",
    "print(new_df.iloc[2])"
   ]
  },
  {
   "cell_type": "code",
   "execution_count": null,
   "id": "75a90f76",
   "metadata": {},
   "outputs": [],
   "source": [
    "# Q4: Statistical measurements\n",
    "import numpy as np\n",
    "df1 = pd.DataFrame(np.random.rand(6, 6), columns=['column_1', 'column_2', 'column_3', 'column_4', 'column_5', 'column_6'])\n",
    "print(df1.mean())  # Mean of each column\n",
    "print(df1['column_2'].std())  # Standard deviation of column_2"
   ]
  },
  {
   "cell_type": "code",
   "execution_count": null,
   "id": "bf33facb",
   "metadata": {},
   "outputs": [],
   "source": [
    "# Q5: Replacing numeric data with a string and checking mean\n",
    "df1.loc[1, 'column_2'] = 'text'\n",
    "print(df1['column_2'].mean())  # This will raise an error since 'text' is non-numeric."
   ]
  },
  {
   "cell_type": "code",
   "execution_count": null,
   "id": "e0b5a7c3",
   "metadata": {},
   "outputs": [],
   "source": [
    "# Q7: Print current month and year\n",
    "print(pd.Timestamp.now().strftime('%Y-%m'))"
   ]
  },
  {
   "cell_type": "code",
   "execution_count": null,
   "id": "9837b575",
   "metadata": {},
   "outputs": [],
   "source": [
    "# Q8: Calculate difference between two dates\n",
    "date1 = pd.Timestamp(input('Enter first date (YYYY-MM-DD): '))\n",
    "date2 = pd.Timestamp(input('Enter second date (YYYY-MM-DD): '))\n",
    "delta = date2 - date1\n",
    "print(f'Days: {delta.days}, Hours: {delta.total_seconds()//3600}, Minutes: {delta.total_seconds()//60}')"
   ]
  },
  {
   "cell_type": "code",
   "execution_count": null,
   "id": "f27750c0",
   "metadata": {},
   "outputs": [],
   "source": [
    "# Q9: Read CSV and convert a column to categorical type\n",
    "file_path = input('Enter CSV file path: ')\n",
    "column_name = input('Enter column name to convert: ')\n",
    "df = pd.read_csv(file_path)\n",
    "df[column_name] = df[column_name].astype('category')\n",
    "print(df.sort_values(by=column_name))"
   ]
  },
  {
   "cell_type": "code",
   "execution_count": null,
   "id": "75e5ae16",
   "metadata": {},
   "outputs": [],
   "source": [
    "# Q10: Stacked bar chart for sales data\n",
    "import matplotlib.pyplot as plt\n",
    "file_path = input('Enter CSV file path: ')\n",
    "df = pd.read_csv(file_path)\n",
    "df.pivot(index='Date', columns='Product', values='Sales').plot(kind='bar', stacked=True)\n",
    "plt.show()"
   ]
  },
  {
   "cell_type": "code",
   "execution_count": null,
   "id": "d69819ae",
   "metadata": {},
   "outputs": [],
   "source": [
    "# Q11: Calculate mean, median, and mode of test scores\n",
    "file_path = input('Enter CSV file path: ')\n",
    "df = pd.read_csv(file_path)\n",
    "mean_score = df['Test Score'].mean()\n",
    "median_score = df['Test Score'].median()\n",
    "mode_score = df['Test Score'].mode().tolist()\n",
    "print(f'| Statistic | Value |\\n|-----------|-------|\\n| Mean | {mean_score} |\\n| Median | {median_score} |\\n| Mode | {', '.join(map(str, mode_score))} |')"
   ]
  }
 ],
 "metadata": {},
 "nbformat": 4,
 "nbformat_minor": 5
}
