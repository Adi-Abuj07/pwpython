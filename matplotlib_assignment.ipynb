{
 "cells": [
  {
   "cell_type": "markdown",
   "id": "69256fe5",
   "metadata": {},
   "source": [
    "# Matplotlib Assignment"
   ]
  },
  {
   "cell_type": "markdown",
   "id": "229e9f15",
   "metadata": {},
   "source": [
    "## Q1: What is Matplotlib? Why is it used? Name five plots that can be plotted using the Pyplot module of Matplotlib."
   ]
  },
  {
   "cell_type": "markdown",
   "id": "905d3c0d",
   "metadata": {},
   "source": [
    "Matplotlib is a popular Python library used for data visualization. It provides a variety of plotting functions to create static, animated, and interactive visualizations. The `pyplot` module in Matplotlib is widely used for creating different types of plots.\n",
    "\n",
    "Five plots that can be created using `pyplot`:\n",
    "1. Line Plot\n",
    "2. Scatter Plot\n",
    "3. Bar Plot\n",
    "4. Histogram\n",
    "5. Box Plot"
   ]
  },
  {
   "cell_type": "markdown",
   "id": "7fa94064",
   "metadata": {},
   "source": [
    "## Q2: Scatter Plot"
   ]
  },
  {
   "cell_type": "code",
   "execution_count": null,
   "id": "ab70bb86",
   "metadata": {},
   "outputs": [],
   "source": [
    "\n",
    "import numpy as np\n",
    "import matplotlib.pyplot as plt\n",
    "\n",
    "# Generate data\n",
    "np.random.seed(3)\n",
    "x = 3 + np.random.normal(0, 2, 50)\n",
    "y = 3 + np.random.normal(0, 2, len(x))\n",
    "\n",
    "# Plot scatter plot\n",
    "plt.scatter(x, y, color='blue', alpha=0.5)\n",
    "plt.title(\"Scatter Plot\")\n",
    "plt.xlabel(\"X values\")\n",
    "plt.ylabel(\"Y values\")\n",
    "plt.show()\n"
   ]
  },
  {
   "cell_type": "markdown",
   "id": "1c37aeae",
   "metadata": {},
   "source": [
    "## Q3: Subplot Function"
   ]
  },
  {
   "cell_type": "code",
   "execution_count": null,
   "id": "7060e541",
   "metadata": {},
   "outputs": [],
   "source": [
    "\n",
    "import numpy as np\n",
    "import matplotlib.pyplot as plt\n",
    "\n",
    "x = np.array([0, 1, 2, 3, 4, 5])\n",
    "y1 = np.array([0, 100, 200, 300, 400, 500])\n",
    "y2 = np.array([50, 20, 40, 20, 60, 70])\n",
    "y3 = np.array([10, 20, 30, 40, 50, 60])\n",
    "y4 = np.array([200, 350, 250, 550, 450, 150])\n",
    "\n",
    "plt.figure(figsize=(10, 8))\n",
    "\n",
    "plt.subplot(2, 2, 1)\n",
    "plt.plot(x, y1, marker='o', linestyle='-')\n",
    "plt.title(\"Line 1\")\n",
    "\n",
    "plt.subplot(2, 2, 2)\n",
    "plt.plot(x, y2, marker='s', linestyle='--', color='red')\n",
    "plt.title(\"Line 2\")\n",
    "\n",
    "plt.subplot(2, 2, 3)\n",
    "plt.plot(x, y3, marker='d', linestyle='-.', color='green')\n",
    "plt.title(\"Line 3\")\n",
    "\n",
    "plt.subplot(2, 2, 4)\n",
    "plt.plot(x, y4, marker='^', linestyle=':', color='purple')\n",
    "plt.title(\"Line 4\")\n",
    "\n",
    "plt.tight_layout()\n",
    "plt.show()\n"
   ]
  },
  {
   "cell_type": "markdown",
   "id": "a5ee0204",
   "metadata": {},
   "source": [
    "## Q4: Bar Plot"
   ]
  },
  {
   "cell_type": "code",
   "execution_count": null,
   "id": "c97f49a0",
   "metadata": {},
   "outputs": [],
   "source": [
    "\n",
    "import numpy as np\n",
    "import matplotlib.pyplot as plt\n",
    "\n",
    "company = np.array([\"Apple\", \"Microsoft\", \"Google\", \"AMD\"])\n",
    "profit = np.array([3000, 8000, 1000, 10000])\n",
    "\n",
    "# Bar Plot\n",
    "plt.bar(company, profit, color=['blue', 'green', 'red', 'purple'])\n",
    "plt.title(\"Company Profits\")\n",
    "plt.xlabel(\"Company\")\n",
    "plt.ylabel(\"Profit\")\n",
    "plt.show()\n",
    "\n",
    "# Horizontal Bar Plot\n",
    "plt.barh(company, profit, color=['blue', 'green', 'red', 'purple'])\n",
    "plt.title(\"Company Profits (Horizontal)\")\n",
    "plt.xlabel(\"Profit\")\n",
    "plt.ylabel(\"Company\")\n",
    "plt.show()\n"
   ]
  },
  {
   "cell_type": "markdown",
   "id": "a5cf828c",
   "metadata": {},
   "source": [
    "## Q5: Box Plot"
   ]
  },
  {
   "cell_type": "code",
   "execution_count": null,
   "id": "5cdede55",
   "metadata": {},
   "outputs": [],
   "source": [
    "\n",
    "import numpy as np\n",
    "import matplotlib.pyplot as plt\n",
    "\n",
    "box1 = np.random.normal(100, 10, 200)\n",
    "box2 = np.random.normal(90, 20, 200)\n",
    "\n",
    "plt.boxplot([box1, box2], labels=[\"Box 1\", \"Box 2\"])\n",
    "plt.title(\"Box Plot Example\")\n",
    "plt.show()\n"
   ]
  }
 ],
 "metadata": {},
 "nbformat": 4,
 "nbformat_minor": 5
}