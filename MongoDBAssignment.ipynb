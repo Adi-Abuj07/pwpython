{
 "cells": [
  {
   "cell_type": "code",
   "execution_count": null,
   "id": "a1c71cd3-eb83-43f6-ba52-b11a3c4a99a8",
   "metadata": {},
   "outputs": [],
   "source": [
    "#Q1. What is MongoDB? Explain non-relational databases in short. In which scenarios is it preferred to use MongoDB over SQL databases?\n",
    "MongoDB:\n",
    "A NoSQL database storing data in flexible, JSON-like BSON format.\n",
    "Designed for scalability, high performance, and ease of development.\n",
    "Non-relational Databases:\n",
    "Do not use table-based structure.\n",
    "Use various models like document, key-value, wide-column, and graph.\n",
    "Handle unstructured or semi-structured data efficiently.\n",
    "Preferred Scenarios for MongoDB:\n",
    "Flexible Schema: When data structure changes frequently.\n",
    "Horizontal Scalability: For distributing data across multiple servers.\n",
    "High Write Throughput: Handling large volumes of write operations.\n",
    "Rapid Development: Fast and easy iterations for developers.\n",
    "Geospatial Data: Robust support for geospatial querying.\n",
    "Big Data and Real-Time Analytics: Efficient aggregation and analytics.\n",
    "Content Management: Suitable for dynamic and varied data structures."
   ]
  },
  {
   "cell_type": "code",
   "execution_count": null,
   "id": "2cf1b46f-d0da-4829-a601-fa34b9b61b8a",
   "metadata": {},
   "outputs": [],
   "source": [
    "#Q2. State and Explain the Features of MongoDB\n",
    "Flexible Schema: Allows dynamic and evolving data structures without downtime.\n",
    "Document-Oriented Storage: Stores data in BSON format (Binary JSON).\n",
    "Scalability: Supports horizontal scaling via sharding.\n",
    "High Performance: Optimized for read and write operations.\n",
    "Replication: Provides replica sets for data redundancy and availability.\n",
    "Aggregation Framework: Powerful for data processing and transformation.\n",
    "Geospatial Indexing: Efficient handling of location-based data.\n",
    "Full-Text Search: Capabilities for text search on documents.\n",
    "Rich Query Language: Expressive for complex queries.\n",
    "Ad Hoc Queries: Real-time querying based on dynamic criteria.\n",
    "GridFS: Storage and retrieval of large files.\n",
    "Security: Authentication, authorization, encryption, and auditing features."
   ]
  },
  {
   "cell_type": "code",
   "execution_count": null,
   "id": "c2f1131c-229c-4c15-9fcf-f6bf43166ea4",
   "metadata": {},
   "outputs": [],
   "source": [
    "#Q3. Write a code to connect MongoDB to Python. Also,\n",
    "#create a database and a collection in MongoDB.\n",
    "import pymongo\n",
    "client = pymongo.MongoClient(\"mongodb://localhost:27017/\") \n",
    "mydb = client[\"mydatabase\"] \n",
    "mycollection = mydb[\"mycollection\"]  \n",
    "mydocument = {\"name\": \"John\", \"address\": \"Highway 37\"}\n",
    "result = mycollection.insert_one(mydocument)\n",
    "print(\"Inserted document ID:\", result.inserted_id)\n"
   ]
  },
  {
   "cell_type": "code",
   "execution_count": null,
   "id": "fcaa0c0b-c47c-4fb7-9277-17a199756a2e",
   "metadata": {},
   "outputs": [],
   "source": [
    "#Q4. Using the database and the collection created in question number 3, write a code to insert one record,\n",
    "#and insert many records. Use the find() and find_one() methods to print the inserted record.\n",
    "import pymongo\n",
    "client = pymongo.MongoClient(\"mongodb://localhost:27017/\") \n",
    "mydb = client[\"mydatabase\"] \n",
    "mycollection = mydb[\"mycollection\"] \n",
    "document1 = {\"name\": \"Alice\", \"age\": 30, \"city\": \"New York\"}\n",
    "document2 = {\"name\": \"Bob\", \"age\": 25, \"city\": \"Los Angeles\"}\n",
    "document3 = {\"name\": \"Charlie\", \"age\": 35, \"city\": \"Chicago\"}\n",
    "result_one = mycollection.insert_one(document1)\n",
    "documents_to_insert = [document2, document3]\n",
    "result_many = mycollection.insert_many(documents_to_insert)\n",
    "print(\"One inserted record:\")\n",
    "print(mycollection.find_one({\"name\": \"Alice\"}))\n",
    "print(\"\\nAll inserted records:\")\n",
    "for record in mycollection.find():\n",
    "    print(record)\n"
   ]
  },
  {
   "cell_type": "code",
   "execution_count": null,
   "id": "251289e3-3ce9-4652-96d0-410661a63956",
   "metadata": {},
   "outputs": [],
   "source": [
    "#Q5. Explain how you can use the find() method to query the MongoDB database. Write a simple code to\n",
    "#demonstrate this.\n",
    "import pymongo\n",
    "client = pymongo.MongoClient(\"mongodb://localhost:27017/\")  \n",
    "mydb = client[\"mydatabase\"] \n",
    "mycollection = mydb[\"mycollection\"]  \n",
    "document1 = {\"name\": \"Alice\", \"age\": 30, \"city\": \"New York\"}\n",
    "document2 = {\"name\": \"Bob\", \"age\": 25, \"city\": \"Los Angeles\"}\n",
    "document3 = {\"name\": \"Charlie\", \"age\": 35, \"city\": \"Chicago\"}\n",
    "mycollection.insert_many([document1, document2, document3])\n",
    "all_documents = mycollection.find()\n",
    "print(\"All documents in the collection:\")\n",
    "for document in all_documents:\n",
    "    print(document)\n",
    "criteria = {\"age\": {\"$gt\": 25}}\n",
    "selected_documents = mycollection.find(criteria)\n",
    "print(\"\\nDocuments with age greater than 25:\")\n",
    "for document in selected_documents:\n",
    "    print(document)\n"
   ]
  },
  {
   "cell_type": "code",
   "execution_count": null,
   "id": "8292a01b-5ac1-4071-aba0-5e53bb1aa3c7",
   "metadata": {},
   "outputs": [],
   "source": [
    "#Q6. Explain the sort() method. Give an example to demonstrate sorting in MongoDB.\n",
    "\"\"\"MongoDB, the sort() method is used to sort the documents in a collection based on one or more fields.\n",
    "It allows you to specify the sorting order (ascending or descending) for each field.\n",
    "Syntax:\n",
    "sort(keys, direction)\n",
    "keys: Specifies the field(s) to sort by. It can be a single field name or a list of field names.\n",
    "direction: Optional. Specifies the sorting order. Use pymongo.\n",
    "ASCENDING (for ascending order) or pymongo.DESCENDING (for descending order).\n",
    "\"\"\"\n",
    "import pymongo\n",
    "client = pymongo.MongoClient(\"mongodb://localhost:27017/\") \n",
    "mydb = client[\"mydatabase\"] \n",
    "mycollection = mydb[\"mycollection\"] \n",
    "document1 = {\"name\": \"Alice\", \"age\": 30, \"city\": \"New York\"}\n",
    "document2 = {\"name\": \"Bob\", \"age\": 25, \"city\": \"Los Angeles\"}\n",
    "document3 = {\"name\": \"Charlie\", \"age\": 35, \"city\": \"Chicago\"}\n",
    "mycollection.insert_many([document1, document2, document3])\n",
    "sorted_documents = mycollection.find().sort(\"age\", pymongo.ASCENDING)\n",
    "print(\"Sorted documents (ascending order by age):\")\n",
    "for document in sorted_documents:\n",
    "    print(document)\n",
    "sorted_documents_desc = mycollection.find().sort(\"age\", pymongo.DESCENDING)\n",
    "print(\"\\nSorted documents (descending order by age):\")\n",
    "for document in sorted_documents_desc:\n",
    "    print(document)\n"
   ]
  },
  {
   "cell_type": "code",
   "execution_count": null,
   "id": "27215d5e-fe5e-4263-aa1c-0f25017ffc09",
   "metadata": {},
   "outputs": [],
   "source": [
    "#Q7. Explain why delete_one(), delete_many(), and drop() is used.\n",
    "1. delete_one() Method:\n",
    "Purpose: Deletes a single document matching a specified filter from a collection.\n",
    "Example: mycollection.delete_one({\"name\": \"Alice\"}) deletes one document where name is \"Alice\".\n",
    "2. delete_many() Method:\n",
    "Purpose: Deletes all documents matching a specified filter from a collection.\n",
    "Example: mycollection.delete_many({\"age\": {\"$gte\": 30}}) deletes all documents where age is greater than or equal to 30.\n",
    "3. drop() Method:\n",
    "Purpose: Deletes an entire collection from the database.\n",
    "Example: mycollection.drop() deletes the entire mycollection.\n",
    "Usage:\n",
    "delete_one() and delete_many(): Used to remove specific documents based on criteria.\n",
    "drop(): Used to delete entire collections, useful for clearing or resetting data structures.\n",
    "Caution:\n",
    "Irreversible: Deleting data with these methods is permanent and cannot be undone. Use with caution to avoid unintended data loss."
   ]
  }
 ],
 "metadata": {
  "kernelspec": {
   "display_name": "Python 3 (ipykernel)",
   "language": "python",
   "name": "python3"
  },
  "language_info": {
   "codemirror_mode": {
    "name": "ipython",
    "version": 3
   },
   "file_extension": ".py",
   "mimetype": "text/x-python",
   "name": "python",
   "nbconvert_exporter": "python",
   "pygments_lexer": "ipython3",
   "version": "3.10.8"
  }
 },
 "nbformat": 4,
 "nbformat_minor": 5
}
