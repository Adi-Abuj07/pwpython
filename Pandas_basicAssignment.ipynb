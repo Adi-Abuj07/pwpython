{
 "cells": [
  {
   "cell_type": "code",
   "execution_count": 1,
   "id": "319f9318-15c0-4883-90cd-0f62c19b2016",
   "metadata": {},
   "outputs": [],
   "source": [
    "#Q1. Create a Pandas Series that contains the following data: 4, 8, 15, 16, 23, and 42. Then, print the series.\n",
    "import pandas as pd\n",
    "data=[4,8,15,16,23,42]\n",
    "series=pd.Series(data)"
   ]
  },
  {
   "cell_type": "code",
   "execution_count": 2,
   "id": "c6682f80-593d-44ce-be17-e09a33ded6d8",
   "metadata": {},
   "outputs": [
    {
     "name": "stdout",
     "output_type": "stream",
     "text": [
      "0     4\n",
      "1     8\n",
      "2    15\n",
      "3    16\n",
      "4    23\n",
      "5    42\n",
      "dtype: int64\n"
     ]
    }
   ],
   "source": [
    "print(series)"
   ]
  },
  {
   "cell_type": "code",
   "execution_count": 5,
   "id": "7a4a1a8d-cc4a-4791-8977-bdc1f9134e7f",
   "metadata": {},
   "outputs": [
    {
     "name": "stdout",
     "output_type": "stream",
     "text": [
      "0     1\n",
      "1     2\n",
      "2     3\n",
      "3     4\n",
      "4     5\n",
      "5     6\n",
      "6     7\n",
      "7     8\n",
      "8     9\n",
      "9    10\n",
      "dtype: int64\n"
     ]
    }
   ],
   "source": [
    "#Q2. Create a variable of list type containing 10 elements in it, and apply pandas.Series function on the\n",
    "#variable print it.\n",
    "import pandas as pd\n",
    "# Creating a list with 10 elements\n",
    "data_list = [1, 2, 3, 4, 5, 6, 7, 8, 9, 10]\n",
    "# Converting the list to a Pandas Series\n",
    "series = pd.Series(data_list)\n",
    "# Printing the series\n",
    "print(series)\n"
   ]
  },
  {
   "cell_type": "code",
   "execution_count": 6,
   "id": "11e9e700-b1a9-4daa-9544-88463e79e579",
   "metadata": {},
   "outputs": [],
   "source": [
    "#Q3.Create a Pandas DataFrame that contains the following data:\n",
    "data={\"Name\":[\"Alice\",\"Bob\",\"claire\"],\"Age\":['25','30','27'],'Gender':['Female','Male','Female']}\n",
    "df=pd.DataFrame(data)"
   ]
  },
  {
   "cell_type": "code",
   "execution_count": 7,
   "id": "ea82ecb6-6888-4099-ba20-7b1451151fbd",
   "metadata": {},
   "outputs": [
    {
     "name": "stdout",
     "output_type": "stream",
     "text": [
      "     Name Age  Gender\n",
      "0   Alice  25  Female\n",
      "1     Bob  30    Male\n",
      "2  claire  27  Female\n"
     ]
    }
   ],
   "source": [
    "print(df)"
   ]
  },
  {
   "cell_type": "code",
   "execution_count": 9,
   "id": "6c697862-4c75-4541-a6bd-9dbd408b8086",
   "metadata": {},
   "outputs": [
    {
     "name": "stdout",
     "output_type": "stream",
     "text": [
      "Series:\n",
      "0     4\n",
      "1     8\n",
      "2    15\n",
      "3    16\n",
      "4    23\n",
      "5    42\n",
      "dtype: int64\n",
      "\n",
      "DataFrame:\n",
      "      name  age gender\n",
      "0    Alice   25      F\n",
      "1      Bob   30      M\n",
      "2  Charlie   35      M\n",
      "3    David   40      M\n",
      "4      Eva   22      F\n"
     ]
    }
   ],
   "source": [
    "#Q4. What is ‘DataFrame’ in pandas and how is it different from pandas.series? Explain with an example.\n",
    "\"\"\"In pandas, a DataFrame is a two-dimensional, size-mutable, and potentially heterogeneous tabular data structure with labeled axes (rows and columns). It is similar to a table in a database, an Excel spreadsheet, or a data frame in R.\n",
    "A Series, on the other hand, is a one-dimensional array with axis labels. It can be thought of as a single column of a DataFrame.\n",
    "Differences between DataFrame and Series:\n",
    "Dimensions:\n",
    "Series: One-dimensional\n",
    "DataFrame: Two-dimensional\n",
    "Structure:\n",
    "Series: A single column of data with an index.\n",
    "DataFrame: Multiple columns of data, each of which can be a different type (e.g., integer, float, string).\n",
    "Usage:\n",
    "Series: Useful for operations on a single column of data.\n",
    "DataFrame: Useful for operations on multiple columns of data.\n",
    "\"\"\"#Example:Series\n",
    "import pandas as pd\n",
    "# Creating a Series\n",
    "data = [4, 8, 15, 16, 23, 42]\n",
    "series = pd.Series(data)\n",
    "# Printing the Series\n",
    "print(\"Series:\")\n",
    "print(series)\n",
    "\n",
    "#DataFrame\n",
    "# Creating a DataFrame\n",
    "data = {\n",
    "    'name': ['Alice', 'Bob', 'Charlie', 'David', 'Eva'],\n",
    "    'age': [25, 30, 35, 40, 22],\n",
    "    'gender': ['F', 'M', 'M', 'M', 'F']\n",
    "}\n",
    "df = pd.DataFrame(data)\n",
    "# Printing the DataFrame\n",
    "print(\"\\nDataFrame:\")\n",
    "print(df)\n",
    "\n"
   ]
  },
  {
   "cell_type": "code",
   "execution_count": 10,
   "id": "59b68567-108b-41b8-95da-53e52e352f5c",
   "metadata": {},
   "outputs": [
    {
     "name": "stdout",
     "output_type": "stream",
     "text": [
      "gender\n",
      "F    23.5\n",
      "M    35.0\n",
      "Name: age, dtype: float64\n"
     ]
    }
   ],
   "source": [
    "#Q5. What are some common functions you can use to manipulate data in a Pandas DataFrame? Can\n",
    "#you give an example of when you might use one of these functions?\n",
    "\"\"\"head() and tail(): View the first or last few rows.\n",
    "describe(): Generate descriptive statistics.\n",
    "info(): Get a summary of the DataFrame.\n",
    "sort_values(): Sort the DataFrame by a specific column.\n",
    "groupby(): Group data by a specific column and apply aggregation functions.\n",
    "apply(): Apply a function to each element or row.\n",
    "merge() and join(): Combine two DataFrames.\n",
    "drop(): Remove rows or columns.\n",
    "fillna(): Fill missing values.\n",
    "pivot_table(): Create a pivot table.\n",
    "Example:\n",
    "Using groupby() to get the average age by gender:\n",
    "\"\"\"\n",
    "import pandas as pd\n",
    "\n",
    "# Creating a DataFrame\n",
    "data = {\n",
    "    'name': ['Alice', 'Bob', 'Charlie', 'David', 'Eva'],\n",
    "    'age': [25, 30, 35, 40, 22],\n",
    "    'gender': ['F', 'M', 'M', 'M', 'F']\n",
    "}\n",
    "df = pd.DataFrame(data)\n",
    "\n",
    "# Grouping by gender and calculating the average age\n",
    "avg_age_by_gender = df.groupby('gender')['age'].mean()\n",
    "\n",
    "print(avg_age_by_gender)"
   ]
  },
  {
   "cell_type": "code",
   "execution_count": null,
   "id": "8b7d1905-74d1-4cc4-918a-f66abd7dd9ee",
   "metadata": {},
   "outputs": [],
   "source": [
    "#Q6. Which of the following is mutable in nature Series, DataFrame, Panel?\n",
    "In pandas, both Series and DataFrame are mutable in nature, meaning their data can be changed after they are created. However,\n",
    "Panel is deprecated and no longer recommended for use in recent versions of pandas (since version 0.25.0).\n",
    "So, the mutable ones are:\n",
    "Series\n",
    "DataFrame"
   ]
  },
  {
   "cell_type": "code",
   "execution_count": 11,
   "id": "a5b17757-5924-415c-b2cc-82f680951dc5",
   "metadata": {},
   "outputs": [
    {
     "name": "stdout",
     "output_type": "stream",
     "text": [
      "      name  age gender\n",
      "0    Alice   25      F\n",
      "1      Bob   30      M\n",
      "2  Charlie   35      M\n"
     ]
    }
   ],
   "source": [
    "#Q7. Create a DataFrame using multiple Series. Explain with an example.\n",
    "import pandas as pd\n",
    "# Creating Series\n",
    "names = pd.Series(['Alice', 'Bob', 'Charlie'])\n",
    "ages = pd.Series([25, 30, 35])\n",
    "genders = pd.Series(['F', 'M', 'M'])\n",
    "# Creating DataFrame from Series\n",
    "data = {\n",
    "    'name': names,\n",
    "    'age': ages,\n",
    "    'gender': genders\n",
    "}\n",
    "df = pd.DataFrame(data)\n",
    "\n",
    "# Printing the DataFrame\n",
    "print(df)\n"
   ]
  },
  {
   "cell_type": "code",
   "execution_count": null,
   "id": "e8111215-8bb3-49d7-bc8c-32277f90c349",
   "metadata": {},
   "outputs": [],
   "source": []
  }
 ],
 "metadata": {
  "kernelspec": {
   "display_name": "Python 3 (ipykernel)",
   "language": "python",
   "name": "python3"
  },
  "language_info": {
   "codemirror_mode": {
    "name": "ipython",
    "version": 3
   },
   "file_extension": ".py",
   "mimetype": "text/x-python",
   "name": "python",
   "nbconvert_exporter": "python",
   "pygments_lexer": "ipython3",
   "version": "3.10.8"
  }
 },
 "nbformat": 4,
 "nbformat_minor": 5
}
