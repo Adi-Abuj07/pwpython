{
 "cells": [
  {
   "cell_type": "code",
   "execution_count": 5,
   "id": "ef66d839-b2f2-44b8-a3bf-5a71591e596d",
   "metadata": {},
   "outputs": [
    {
     "name": "stdout",
     "output_type": "stream",
     "text": [
      "single line\n",
      "Multiline\n"
     ]
    },
    {
     "data": {
      "text/plain": [
       "'\\nThis is a \\nmultiline comment\\n'"
      ]
     },
     "execution_count": 5,
     "metadata": {},
     "output_type": "execute_result"
    }
   ],
   "source": [
    "#Q1. How do you comment code in Python? What are the different types of comments?\n",
    "#comment are two type 1)single line 2)multilinetype \n",
    "\n",
    "print(\"single line\")\n",
    "# Python program \n",
    "# multiline comments\n",
    "print(\"Multiline\")\n",
    "\"\"\"\n",
    "This is a \n",
    "multiline comment not get exicute\n",
    "\"\"\"\n"
   ]
  },
  {
   "cell_type": "code",
   "execution_count": 6,
   "id": "ced3e536-887f-40f5-8d56-97862b29d944",
   "metadata": {},
   "outputs": [
    {
     "name": "stdout",
     "output_type": "stream",
     "text": [
      "<class 'int'>\n",
      "<class 'float'>\n",
      "<class 'str'>\n"
     ]
    }
   ],
   "source": [
    "#Q2. What are variables in Python? How do you declare and assign values to variables?\n",
    "\"\"\"--> variable are many type int ,float ,string.but python programming languege are not requied \n",
    "declare varaible specification\"\"\"\n",
    "a=2\n",
    "b=2.5\n",
    "c='Hello'\n",
    "print(type(a))\n",
    "print(type(b))\n",
    "print(type(c))"
   ]
  },
  {
   "cell_type": "code",
   "execution_count": 9,
   "id": "79627383-5f60-4918-8a59-e2fe4e669d0e",
   "metadata": {},
   "outputs": [
    {
     "name": "stdout",
     "output_type": "stream",
     "text": [
      "6\n"
     ]
    },
    {
     "data": {
      "text/plain": [
       "int"
      ]
     },
     "execution_count": 9,
     "metadata": {},
     "output_type": "execute_result"
    }
   ],
   "source": [
    "#Q3. How do you convert one data type to another in Python?\n",
    "s=\"6\"\n",
    "b=int(s)\n",
    "print(b)\n",
    "type(b)"
   ]
  },
  {
   "cell_type": "code",
   "execution_count": 13,
   "id": "7a80d9bc-6d87-464e-9a84-7d37e21c07a7",
   "metadata": {},
   "outputs": [
    {
     "name": "stdout",
     "output_type": "stream",
     "text": [
      "6\n"
     ]
    },
    {
     "data": {
      "text/plain": [
       "str"
      ]
     },
     "execution_count": 13,
     "metadata": {},
     "output_type": "execute_result"
    }
   ],
   "source": [
    "a=6\n",
    "c=str(a)\n",
    "print(c)\n",
    "type(c)"
   ]
  },
  {
   "cell_type": "code",
   "execution_count": 23,
   "id": "c2da6007-7f2e-4daf-95cc-d7016486595b",
   "metadata": {},
   "outputs": [
    {
     "name": "stdout",
     "output_type": "stream",
     "text": [
      "After converting string string to set {'a', 'A', 't', 'd', 'i', 'y'}\n",
      "After converting string string to list ['A', 'd', 'i', 't', 'y', 'a']\n",
      "After converting string string to tuple ('A', 'd', 'i', 't', 'y', 'a')\n"
     ]
    }
   ],
   "source": [
    "c=\"Aditya\"\n",
    "print(\"After converting string string to set\",set(c))\n",
    "print(\"After converting string string to list\",list(c))\n",
    "print(\"After converting string string to tuple\",tuple(c))"
   ]
  },
  {
   "cell_type": "code",
   "execution_count": 25,
   "id": "e3cbcf3e-9ade-4eb5-aa01-25f4573279fe",
   "metadata": {},
   "outputs": [
    {
     "name": "stdout",
     "output_type": "stream",
     "text": [
      "{2.4, 12, 'wree'}\n",
      "(12, 'wree', 2.4)\n"
     ]
    }
   ],
   "source": [
    "l1=[12,'wree',2.4]\n",
    "print(set(l1))\n",
    "print(tuple(l1))"
   ]
  },
  {
   "cell_type": "code",
   "execution_count": 28,
   "id": "d2679d9d-e476-4c14-a800-f155ffa619f1",
   "metadata": {},
   "outputs": [
    {
     "name": "stdout",
     "output_type": "stream",
     "text": [
      "number of argument is: 3\n"
     ]
    }
   ],
   "source": [
    "#Q4.How do you write and execute a Python script from the command line?\n",
    "import sys\n",
    "print('number of argument is:',len(sys.argv))"
   ]
  },
  {
   "cell_type": "code",
   "execution_count": 31,
   "id": "0b938f25-39ee-4df3-89b6-e6ff39d64bba",
   "metadata": {},
   "outputs": [
    {
     "data": {
      "text/plain": [
       "[2, 3]"
      ]
     },
     "execution_count": 31,
     "metadata": {},
     "output_type": "execute_result"
    }
   ],
   "source": [
    "#Q5. Given a list my_list = [1, 2, 3, 4, 5], write the code to slice the list and obtain the sub-list [2, 3].\n",
    "my_list=[1,2,3,4,5]\n",
    "my_list[1:3]"
   ]
  },
  {
   "cell_type": "code",
   "execution_count": 32,
   "id": "8242c3d6-6278-4577-ad2d-dd5ac8c308fe",
   "metadata": {},
   "outputs": [
    {
     "data": {
      "text/plain": [
       "complex"
      ]
     },
     "execution_count": 32,
     "metadata": {},
     "output_type": "execute_result"
    }
   ],
   "source": [
    "#Q6. What is a complex number in mathematics, and how is it represented in Python?\n",
    "\"\"\"the complex number contain real number and imagenary number for ex 2+3j 2 is real number \n",
    "and 3j is imaginary number\"\"\"\n",
    "a=2+3j\n",
    "type(a)\n"
   ]
  },
  {
   "cell_type": "code",
   "execution_count": 33,
   "id": "11a94722-f0b0-42f8-9dea-b97d5aed75ef",
   "metadata": {},
   "outputs": [
    {
     "data": {
      "text/plain": [
       "int"
      ]
     },
     "execution_count": 33,
     "metadata": {},
     "output_type": "execute_result"
    }
   ],
   "source": [
    "#Q7. What is the correct way to declare a variable named age and assign the value 25 to it?\n",
    "age=25\n",
    "type(age)"
   ]
  },
  {
   "cell_type": "code",
   "execution_count": 34,
   "id": "ea526e08-f534-4d3f-bbdc-a9695ad71cd7",
   "metadata": {},
   "outputs": [
    {
     "data": {
      "text/plain": [
       "float"
      ]
     },
     "execution_count": 34,
     "metadata": {},
     "output_type": "execute_result"
    }
   ],
   "source": [
    "#Q8. Declare a variable named price and assign the value 9.99 to it. What data type does this variable\n",
    "#belong to?\n",
    "price=9.99\n",
    "type(price)"
   ]
  },
  {
   "cell_type": "code",
   "execution_count": 35,
   "id": "6e4bc46a-1752-4492-916c-8ae8f80c39ff",
   "metadata": {},
   "outputs": [
    {
     "name": "stdout",
     "output_type": "stream",
     "text": [
      "Adi\n"
     ]
    }
   ],
   "source": [
    "#Q9. Create a variable named name and assign your full name to it as a string. How would you print the\n",
    "#value of this variable?\n",
    "name=\"Adi\"\n",
    "print(name)\n"
   ]
  },
  {
   "cell_type": "code",
   "execution_count": 38,
   "id": "9c9f9792-9ee1-4e0a-bb23-91af87446615",
   "metadata": {},
   "outputs": [
    {
     "name": "stdout",
     "output_type": "stream",
     "text": [
      " World\n",
      "World\n"
     ]
    }
   ],
   "source": [
    "#Q10. Given the string \"Hello, World!\", extract the substring \"World\".\n",
    "s=\"Hello, World!\"\n",
    "print(s[-7:-1:1])\n",
    "print(s[7:12])"
   ]
  },
  {
   "cell_type": "code",
   "execution_count": 39,
   "id": "e2b258e3-2aa6-466b-8b36-32aaec7d70e5",
   "metadata": {},
   "outputs": [
    {
     "name": "stdout",
     "output_type": "stream",
     "text": [
      "True\n"
     ]
    }
   ],
   "source": [
    "#Q11. Create a variable named \"is_student\" and assign it a boolean value indicating whether you are\n",
    "#currently a student or not.\n",
    "is_student=True\n",
    "print(is_student)"
   ]
  },
  {
   "cell_type": "code",
   "execution_count": null,
   "id": "a8a77647-f552-4128-94a1-335be6836a26",
   "metadata": {},
   "outputs": [],
   "source": []
  }
 ],
 "metadata": {
  "kernelspec": {
   "display_name": "Python 3 (ipykernel)",
   "language": "python",
   "name": "python3"
  },
  "language_info": {
   "codemirror_mode": {
    "name": "ipython",
    "version": 3
   },
   "file_extension": ".py",
   "mimetype": "text/x-python",
   "name": "python",
   "nbconvert_exporter": "python",
   "pygments_lexer": "ipython3",
   "version": "3.10.8"
  }
 },
 "nbformat": 4,
 "nbformat_minor": 5
}
