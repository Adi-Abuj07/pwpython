{
 "cells": [
  {
   "cell_type": "code",
   "execution_count": 7,
   "id": "5278ab7c-4f78-4591-b78e-83acf8021148",
   "metadata": {},
   "outputs": [
    {
     "name": "stdout",
     "output_type": "stream",
     "text": [
      "Car: Toyota Innova\n",
      "Car: Honda Verana\n"
     ]
    }
   ],
   "source": [
    "# Q1. Explain Class and Object with respect to Object-Oriented Programming. Give a suitable example.\n",
    "# Class: A class is a blueprint for creating objects. It defines attributes (variables) and methods (functions) that the objects of the class will have.\n",
    "# Object: An object is an instance of a class. It represents a specific entity (e.g., a car, a person) and has its own state (attributes) and behavior (methods).\n",
    "class Car:\n",
    "    def __init__(self, make, model):\n",
    "        self.make = make\n",
    "        self.model = model\n",
    "\n",
    "    def display_info(self):\n",
    "        print(f\"Car: {self.make} {self.model}\")\n",
    "\n",
    "car1 = Car(\"Toyota\", \"Innova\")\n",
    "car2 = Car(\"Honda\", \"Verana\")\n",
    "\n",
    "car1.display_info()  \n",
    "car2.display_info() \n"
   ]
  },
  {
   "cell_type": "code",
   "execution_count": 8,
   "id": "ef3fbdec-5e25-4501-8cb5-2e3ab52d14b4",
   "metadata": {},
   "outputs": [],
   "source": [
    "# Q2. Name the four pillars of OOPs.\n",
    "# 1)Encapsulation: Bundling data (attributes) and methods that operate on the data into a single unit (class).\n",
    "# 2)Abstraction: Hiding the complex implementation details and showing only the essential features of the object.\n",
    "# 3)Inheritance: Allows a new class to inherit properties and behavior from an existing class.\n",
    "# 4)Polymorphism: Ability to present the same interface for different data types or objects."
   ]
  },
  {
   "cell_type": "code",
   "execution_count": 9,
   "id": "77f73869-2441-4b21-aa6b-20021c37c797",
   "metadata": {},
   "outputs": [
    {
     "name": "stdout",
     "output_type": "stream",
     "text": [
      "Rutu\n",
      "30\n"
     ]
    }
   ],
   "source": [
    "# Q3. Explain why the __init__() function is used. Give a suitable example.\n",
    "# The __init__() function is a special method in Python classes used for initializing newly created objects. It is called automatically when a new object is created.\n",
    "# It is used to set initial values for the object's attributes.\n",
    "class Person:\n",
    "    def __init__(self, name, age):\n",
    "        self.name = name\n",
    "        self.age = age\n",
    "\n",
    "person1 = Person(\"Rutu\", 30)\n",
    "print(person1.name) \n",
    "print(person1.age)   \n"
   ]
  },
  {
   "cell_type": "code",
   "execution_count": null,
   "id": "41be0657-5d8e-4f0c-97e8-d48a0a39a6b9",
   "metadata": {},
   "outputs": [],
   "source": [
    "# Q4. Why self is used in OOPs?\n",
    "# In Python, self is a reference to the current instance of the class. It is used to access attributes and methods of the class within its definition.\n",
    "# When defining methods in a class, self must be the first parameter in the method definition, although you do not pass it explicitly when calling the method."
   ]
  },
  {
   "cell_type": "code",
   "execution_count": 10,
   "id": "123bf280-8fad-4f6a-9363-4183a58ccec8",
   "metadata": {},
   "outputs": [
    {
     "name": "stdout",
     "output_type": "stream",
     "text": [
      "Animal speaks\n",
      "Dog barks\n",
      "Method A\n",
      "Method B\n",
      "Method C\n",
      "Method X\n",
      "Method Y\n",
      "Method Z\n"
     ]
    }
   ],
   "source": [
    "# Q5. What is inheritance? Give an example for each type of inheritance.\n",
    "# Inheritance is a mechanism in which a new class derives attributes and methods from an existing class.\n",
    "# The new class is called a subclass or derived class, and the existing class is called a superclass or base class.\n",
    "# Single Inheritance\n",
    "class Animal:\n",
    "    def speak(self):\n",
    "        print(\"Animal speaks\")\n",
    "\n",
    "class Dog(Animal):\n",
    "    def bark(self):\n",
    "        print(\"Dog barks\")\n",
    "\n",
    "dog = Dog()\n",
    "dog.speak()  \n",
    "dog.bark()   \n",
    "\n",
    "class A:\n",
    "    def method_A(self):\n",
    "        print(\"Method A\")\n",
    "\n",
    "class B:\n",
    "    def method_B(self):\n",
    "        print(\"Method B\")\n",
    "\n",
    "class C(A, B):\n",
    "    def method_C(self):\n",
    "        print(\"Method C\")\n",
    "\n",
    "c = C()\n",
    "c.method_A()  \n",
    "c.method_B()  \n",
    "c.method_C()  \n",
    "\n",
    "\n",
    "class X:\n",
    "    def method_X(self):\n",
    "        print(\"Method X\")\n",
    "\n",
    "class Y(X):\n",
    "    def method_Y(self):\n",
    "        print(\"Method Y\")\n",
    "\n",
    "class Z(Y):\n",
    "    def method_Z(self):\n",
    "        print(\"Method Z\")\n",
    "\n",
    "z = Z()\n",
    "z.method_X() \n",
    "z.method_Y()  \n",
    "z.method_Z() \n"
   ]
  },
  {
   "cell_type": "code",
   "execution_count": null,
   "id": "ba25c31b-1f8f-479b-a25f-9f5736a022b1",
   "metadata": {},
   "outputs": [],
   "source": []
  }
 ],
 "metadata": {
  "kernelspec": {
   "display_name": "Python 3 (ipykernel)",
   "language": "python",
   "name": "python3"
  },
  "language_info": {
   "codemirror_mode": {
    "name": "ipython",
    "version": 3
   },
   "file_extension": ".py",
   "mimetype": "text/x-python",
   "name": "python",
   "nbconvert_exporter": "python",
   "pygments_lexer": "ipython3",
   "version": "3.10.8"
  }
 },
 "nbformat": 4,
 "nbformat_minor": 5
}
