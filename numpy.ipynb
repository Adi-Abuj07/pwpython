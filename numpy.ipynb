{
  "metadata": {
    "kernelspec": {
      "name": "python",
      "display_name": "Python (Pyodide)",
      "language": "python"
    },
    "language_info": {
      "codemirror_mode": {
        "name": "python",
        "version": 3
      },
      "file_extension": ".py",
      "mimetype": "text/x-python",
      "name": "python",
      "nbconvert_exporter": "python",
      "pygments_lexer": "ipython3",
      "version": "3.8"
    }
  },
  "nbformat_minor": 5,
  "nbformat": 4,
  "cells": [
    {
      "id": "476f803f-28ca-4beb-a4e6-8425d6307408",
      "cell_type": "code",
      "source": "import numpy as np\n\nlist_ = ['1', '2', '3', '4', '5']\narray_list = np.array(object=list_)\n\n# Printing data types\nprint(\"Data type of list_:\", type(list_))\nprint(\"Data type of array_list:\", type(array_list))\n",
      "metadata": {
        "trusted": true
      },
      "outputs": [
        {
          "name": "stdout",
          "output_type": "stream",
          "text": "Data type of list_: <class 'list'>\nData type of array_list: <class 'numpy.ndarray'>\n"
        }
      ],
      "execution_count": 1
    },
    {
      "id": "70a37b28-5473-40fb-ac2f-cefcc8bc5a0a",
      "cell_type": "code",
      "source": "# Data type of each element in list_\nprint(\"Data type of elements in list_:\")\nfor i in list_:\n    print(type(i))\n\n# Data type of each element in array_list\nprint(\"Data type of elements in array_list:\")\nfor i in array_list:\n    print(type(i))\n",
      "metadata": {
        "trusted": true
      },
      "outputs": [
        {
          "name": "stdout",
          "output_type": "stream",
          "text": "Data type of elements in list_:\n<class 'str'>\n<class 'str'>\n<class 'str'>\n<class 'str'>\n<class 'str'>\nData type of elements in array_list:\n<class 'numpy.str_'>\n<class 'numpy.str_'>\n<class 'numpy.str_'>\n<class 'numpy.str_'>\n<class 'numpy.str_'>\n"
        }
      ],
      "execution_count": 2
    },
    {
      "id": "f04bcda5-ea5f-4b9a-81a5-be40bd235085",
      "cell_type": "code",
      "source": "array_list = np.array(object=list_, dtype=int)\n\n# Data type of each element in list_\nprint(\"Data type of elements in list_:\")\nfor i in list_:\n    print(type(i))\n\n# Data type of each element in array_list after conversion\nprint(\"Data type of elements in array_list:\")\nfor i in array_list:\n    print(type(i))\n",
      "metadata": {
        "trusted": true
      },
      "outputs": [
        {
          "name": "stdout",
          "output_type": "stream",
          "text": "Data type of elements in list_:\n<class 'str'>\n<class 'str'>\n<class 'str'>\n<class 'str'>\n<class 'str'>\nData type of elements in array_list:\n<class 'numpy.int32'>\n<class 'numpy.int32'>\n<class 'numpy.int32'>\n<class 'numpy.int32'>\n<class 'numpy.int32'>\n"
        }
      ],
      "execution_count": 3
    },
    {
      "id": "b4901d9d-2dcf-43a2-a944-3897ec0ad824",
      "cell_type": "code",
      "source": "num_list = [[1, 2, 3], [4, 5, 6]]\nnum_array = np.array(object=num_list)\n\nprint(\"Shape of num_array:\", num_array.shape)\nprint(\"Size of num_array:\", num_array.size)\n",
      "metadata": {
        "trusted": true
      },
      "outputs": [
        {
          "name": "stdout",
          "output_type": "stream",
          "text": "Shape of num_array: (2, 3)\nSize of num_array: 6\n"
        }
      ],
      "execution_count": 4
    },
    {
      "id": "038667bc-f627-4662-ba5e-302877508964",
      "cell_type": "code",
      "source": "zero_matrix = np.zeros((3, 3))\nprint(zero_matrix)\n",
      "metadata": {
        "trusted": true
      },
      "outputs": [
        {
          "name": "stdout",
          "output_type": "stream",
          "text": "[[0. 0. 0.]\n [0. 0. 0.]\n [0. 0. 0.]]\n"
        }
      ],
      "execution_count": 5
    },
    {
      "id": "584f457a-8365-46de-977b-b046aff9930a",
      "cell_type": "code",
      "source": "identity_matrix = np.eye(5)\nprint(identity_matrix)\n",
      "metadata": {
        "trusted": true
      },
      "outputs": [
        {
          "name": "stdout",
          "output_type": "stream",
          "text": "[[1. 0. 0. 0. 0.]\n [0. 1. 0. 0. 0.]\n [0. 0. 1. 0. 0.]\n [0. 0. 0. 1. 0.]\n [0. 0. 0. 0. 1.]]\n"
        }
      ],
      "execution_count": 6
    },
    {
      "id": "e360f1be-2bd7-4dfc-be5e-e335b6c782be",
      "cell_type": "code",
      "source": "",
      "metadata": {
        "trusted": true
      },
      "outputs": [],
      "execution_count": null
    }
  ]
}