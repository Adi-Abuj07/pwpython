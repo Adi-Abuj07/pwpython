{
 "cells": [
  {
   "cell_type": "code",
   "execution_count": null,
   "id": "dcfe3150-8f1c-4438-b15a-0042957031a7",
   "metadata": {},
   "outputs": [],
   "source": []
  },
  {
   "cell_type": "code",
   "execution_count": 38,
   "id": "b200c964-cc03-474e-b21f-ecfbc99daefe",
   "metadata": {},
   "outputs": [
    {
     "name": "stdout",
     "output_type": "stream",
     "text": [
      "<class 'str'>\n",
      "<class 'list'>\n",
      "<class 'float'>\n",
      "<class 'tuple'>\n"
     ]
    }
   ],
   "source": [
    "#Q1. Create one variable containing following type of data:\n",
    "#(i) string\n",
    "#(ii) list\n",
    "#(iii) float\n",
    "#(iv) tuple\n",
    "\n",
    "a=\"Hellow Adi\"\n",
    "print(type(a))\n",
    "\n",
    "list1=[1,2,3,4,'Adi',50.90]\n",
    "print(type(list1))\n",
    "\n",
    "float1=10.20\n",
    "print(type(float1))\n",
    "\n",
    "tuple1=(1,2,3,40.56,'rytg')\n",
    "print(type(tuple1))\n"
   ]
  },
  {
   "cell_type": "code",
   "execution_count": 39,
   "id": "d2dc4620-3a95-4497-a834-512577b2ecaa",
   "metadata": {},
   "outputs": [
    {
     "name": "stdout",
     "output_type": "stream",
     "text": [
      "<class 'str'>\n",
      "<class 'str'>\n",
      "<class 'list'>\n",
      "<class 'int'>\n"
     ]
    }
   ],
   "source": [
    "#Q2. Given are some following variables containing data:\n",
    "#(i) var1 = ‘ ‘\n",
    "#(ii) var2 = ‘[ DS , ML , Python]’\n",
    "#(iii) var3 = [ ‘DS’ , ’ML’ , ‘Python’ ]\n",
    "#(iv) var4 = 1.\n",
    "\n",
    "var1 = ' '\n",
    "print(type(var1))\n",
    "\n",
    "var2 = '[ DS , ML , Python]'\n",
    "print(type(var2))\n",
    "\n",
    "var3 = [ 'DS' , 'ML' , 'Python' ]\n",
    "print(type(var3))\n",
    "\n",
    "var4 = 1\n",
    "print(type(var4))"
   ]
  },
  {
   "cell_type": "code",
   "execution_count": 40,
   "id": "c65d8f7f-1424-419d-9d95-68c45ef9cf92",
   "metadata": {},
   "outputs": [
    {
     "data": {
      "text/plain": [
       "0.4"
      ]
     },
     "execution_count": 40,
     "metadata": {},
     "output_type": "execute_result"
    }
   ],
   "source": [
    "#Q3. Explain the use of the following operators using an example:\n",
    "#(i) /\n",
    "#(ii) %\n",
    "#(iii) //\n",
    "#(iv) **\n",
    "a=2\n",
    "b=5\n",
    "a/b\n"
   ]
  },
  {
   "cell_type": "code",
   "execution_count": 41,
   "id": "ef783407-c8ec-44ce-9f58-dff3925e12ac",
   "metadata": {},
   "outputs": [
    {
     "data": {
      "text/plain": [
       "10"
      ]
     },
     "execution_count": 41,
     "metadata": {},
     "output_type": "execute_result"
    }
   ],
   "source": [
    "c=10\n",
    "d=20\n",
    "c%d"
   ]
  },
  {
   "cell_type": "code",
   "execution_count": 42,
   "id": "f1ddfdf0-bb2f-4649-b681-75cb84b6318a",
   "metadata": {},
   "outputs": [
    {
     "data": {
      "text/plain": [
       "2"
      ]
     },
     "execution_count": 42,
     "metadata": {},
     "output_type": "execute_result"
    }
   ],
   "source": [
    "a=10\n",
    "b=5\n",
    "a//b\n"
   ]
  },
  {
   "cell_type": "code",
   "execution_count": 43,
   "id": "f2f349aa-4e1d-4a62-b1bf-cdf005403f7a",
   "metadata": {},
   "outputs": [
    {
     "data": {
      "text/plain": [
       "32"
      ]
     },
     "execution_count": 43,
     "metadata": {},
     "output_type": "execute_result"
    }
   ],
   "source": [
    "a=2\n",
    "b=5\n",
    "a**b\n"
   ]
  },
  {
   "cell_type": "code",
   "execution_count": 44,
   "id": "86b804e2-8cb1-43cb-a70c-ea2517121d5e",
   "metadata": {},
   "outputs": [
    {
     "data": {
      "text/plain": [
       "[1, 2, 3, 4, 5, 'c', 'b', 40.59, 'Adi']"
      ]
     },
     "execution_count": 44,
     "metadata": {},
     "output_type": "execute_result"
    }
   ],
   "source": [
    "#Q4. Create a list of length 10 of your choice containing multiple types of data. Using for loop print the\n",
    "#element and its data type.\n",
    "list2=[1,2,3,4,5,'c','b',40.59,'Adi']\n",
    "list2"
   ]
  },
  {
   "cell_type": "code",
   "execution_count": 45,
   "id": "e81225af-73a0-42e8-9617-1278e3734fa4",
   "metadata": {},
   "outputs": [
    {
     "name": "stdout",
     "output_type": "stream",
     "text": [
      "<class 'int'>\n",
      "1\n",
      "<class 'int'>\n",
      "2\n",
      "<class 'int'>\n",
      "3\n",
      "<class 'int'>\n",
      "4\n",
      "<class 'int'>\n",
      "5\n",
      "<class 'str'>\n",
      "c\n",
      "<class 'str'>\n",
      "b\n",
      "<class 'float'>\n",
      "40.59\n",
      "<class 'str'>\n",
      "Adi\n"
     ]
    }
   ],
   "source": [
    "for i in list2:\n",
    "    print(type(i))\n",
    "    print(i)"
   ]
  },
  {
   "cell_type": "code",
   "execution_count": 47,
   "id": "64e4fb74-5839-454e-af89-6a68d4042ded",
   "metadata": {},
   "outputs": [
    {
     "name": "stdin",
     "output_type": "stream",
     "text": [
      "Enter number A:  10\n",
      "Enter number B:  2\n"
     ]
    },
    {
     "name": "stdout",
     "output_type": "stream",
     "text": [
      "5 is not purely divisible by 2.\n"
     ]
    }
   ],
   "source": [
    "#Q5. Using a while loop, verify if the number A is purely divisible by number B and if so then how many\n",
    "#times it can be divisible.\n",
    "A = int(input(\"Enter number A: \"))\n",
    "B = int(input(\"Enter number B: \"))\n",
    "count = 0\n",
    "while A % B == 0:\n",
    "    A = A // B \n",
    "    count += 1\n",
    "if A == 1:\n",
    "    print(f\"{A} is purely divisible by {B}, and it can be divided {count} times.\")\n",
    "else:\n",
    "    print(f\"{A} is not purely divisible by {B}.\")\n"
   ]
  },
  {
   "cell_type": "code",
   "execution_count": 37,
   "id": "6975d221-d5f2-4c79-84a8-32ad81a5d590",
   "metadata": {},
   "outputs": [],
   "source": [
    "#Q6. Create a list containing 25 int type data. Using for loop and if-else condition print if the element \n",
    "#is divisible by 3 or not.\n",
    "r=[20,21,23,24,27,33,30,5,6,34,56,768,897,34,232,446,68,353,5433,343]\n"
   ]
  },
  {
   "cell_type": "code",
   "execution_count": 48,
   "id": "da157f97-61a0-4ec2-939c-1fa0c690da42",
   "metadata": {},
   "outputs": [
    {
     "name": "stdout",
     "output_type": "stream",
     "text": [
      "not division\n",
      "21\n",
      "not division\n",
      "24\n",
      "27\n",
      "33\n",
      "30\n",
      "not division\n",
      "6\n",
      "not division\n",
      "not division\n",
      "768\n",
      "897\n",
      "not division\n",
      "not division\n",
      "not division\n",
      "not division\n",
      "not division\n",
      "5433\n",
      "not division\n"
     ]
    }
   ],
   "source": [
    "for i in r:\n",
    "    if(i%3==0):\n",
    "        print(i)\n",
    "    else:\n",
    "        print(\"not division\")"
   ]
  },
  {
   "cell_type": "code",
   "execution_count": 49,
   "id": "99a6b4b6-759d-4153-bff7-3927ad5d2eaa",
   "metadata": {},
   "outputs": [
    {
     "name": "stdout",
     "output_type": "stream",
     "text": [
      "<class 'list'>\n",
      "<class 'tuple'>\n",
      "[37, 20.3, 'Adi']\n"
     ]
    },
    {
     "ename": "TypeError",
     "evalue": "'tuple' object does not support item assignment",
     "output_type": "error",
     "traceback": [
      "\u001b[0;31m---------------------------------------------------------------------------\u001b[0m",
      "\u001b[0;31mTypeError\u001b[0m                                 Traceback (most recent call last)",
      "Cell \u001b[0;32mIn[49], line 10\u001b[0m\n\u001b[1;32m      8\u001b[0m w[\u001b[38;5;241m0\u001b[39m]\u001b[38;5;241m=\u001b[39m\u001b[38;5;241m37\u001b[39m\n\u001b[1;32m      9\u001b[0m \u001b[38;5;28mprint\u001b[39m(w)\n\u001b[0;32m---> 10\u001b[0m \u001b[43me\u001b[49m\u001b[43m[\u001b[49m\u001b[38;5;241;43m2\u001b[39;49m\u001b[43m]\u001b[49m\u001b[38;5;241m=\u001b[39m\u001b[38;5;241m39\u001b[39m\n\u001b[1;32m     11\u001b[0m w\u001b[38;5;241m.\u001b[39mappend(\u001b[38;5;241m44\u001b[39m)\n",
      "\u001b[0;31mTypeError\u001b[0m: 'tuple' object does not support item assignment"
     ]
    }
   ],
   "source": [
    "#Q7. What do you understand about mutable and immutable data types? Give examples for both showing\n",
    "#this property.\n",
    "w=[10,20.30,'Adi']\n",
    "print(type(w))\n",
    "e=(29,49.43,'wel')\n",
    "print(type(e))\n",
    "\n",
    "w[0]=37\n",
    "print(w)\n",
    "e[2]=39\n",
    "w.append(44)"
   ]
  },
  {
   "cell_type": "code",
   "execution_count": null,
   "id": "8bee37e0-eeb1-4561-bead-b43267abaa16",
   "metadata": {},
   "outputs": [],
   "source": []
  }
 ],
 "metadata": {
  "kernelspec": {
   "display_name": "Python 3 (ipykernel)",
   "language": "python",
   "name": "python3"
  },
  "language_info": {
   "codemirror_mode": {
    "name": "ipython",
    "version": 3
   },
   "file_extension": ".py",
   "mimetype": "text/x-python",
   "name": "python",
   "nbconvert_exporter": "python",
   "pygments_lexer": "ipython3",
   "version": "3.10.8"
  }
 },
 "nbformat": 4,
 "nbformat_minor": 5
}
