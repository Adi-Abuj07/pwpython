{
 "cells": [
  {
   "cell_type": "code",
   "execution_count": null,
   "id": "5ead8657-13f5-417a-b2b8-d7a3658fb4cb",
   "metadata": {},
   "outputs": [],
   "source": [
    "#1). what is multithreading in python?why is it used? Name the module used to handle threads in python\n",
    "\"\"\"Multithreading in Python allows multiple threads to run concurrently within a single process, sharing the same memory space.\n",
    "Why is it used?\n",
    "Improve Performance: Especially for I/O-bound tasks.\n",
    "Concurrency: Handle multiple tasks simultaneously, enhancing responsiveness.\n",
    "Resource Sharing: Threads can easily share data and resources within the same process.\n",
    "Module Used\n",
    "The threading module is used to handle threads in Python.\"\"\""
   ]
  },
  {
   "cell_type": "code",
   "execution_count": 4,
   "id": "8dc55ec9-579e-4a45-a896-90cc76607dee",
   "metadata": {},
   "outputs": [
    {
     "data": {
      "text/plain": [
       "\"The threading module is used in Python to create, control,\\nand manage multiple threads in a program.It helps in achieving concurrent execution,\\nthereby improving the performance of I/O-bound operations and making programs more responsive.\\nthreading.activeCount()\\nUse: Returns the number of Thread objects currently alive.\\nthreading.currentThread()\\nUse: Returns the current Thread object corresponding to the caller's thread of control.\\nthreading.enumerate()\\nUse: Returns a list of all Thread objects currently alive.\""
      ]
     },
     "execution_count": 4,
     "metadata": {},
     "output_type": "execute_result"
    }
   ],
   "source": [
    "#Q2.Why threading module used?Write the use of the following functions\n",
    "#1.activeCount()\n",
    "#2.currentThread()\n",
    "#3.enumerate()\n",
    "\"\"\"The threading module is used in Python to create, control,\n",
    "and manage multiple threads in a program.It helps in achieving concurrent execution,\n",
    "thereby improving the performance of I/O-bound operations and making programs more responsive.\n",
    "threading.activeCount()\n",
    "Use: Returns the number of Thread objects currently alive.\n",
    "threading.currentThread()\n",
    "Use: Returns the current Thread object corresponding to the caller's thread of control.\n",
    "threading.enumerate()\n",
    "Use: Returns a list of all Thread objects currently alive.\"\"\"\n",
    "\n"
   ]
  },
  {
   "cell_type": "code",
   "execution_count": null,
   "id": "fddda1d6-7334-4686-836c-338d0e969e8e",
   "metadata": {},
   "outputs": [],
   "source": [
    "#3.Explain the following functions\n",
    "#1. run()\n",
    "#2.start()\n",
    "#3.join ()\n",
    "#4.isAlive()\n",
    " \"\"\"run\n",
    "Use:\n",
    "Defines the thread's activity.\n",
    "Called when the thread's start method is invoked.\n",
    "Explanation:\n",
    "The run method contains the code that the thread executes when it starts. You typically override this method in a subclass of threading.Thread.\n",
    "start\n",
    "Use:\n",
    "Begins the thread's activity.\n",
    "Calls the run method in a separate thread of control.\n",
    "Explanation:\n",
    "The start method initiates the thread by invoking its run method in a new thread of execution. \n",
    "This allows the thread to run concurrently with other threads.\n",
    "join\n",
    "Use:\n",
    "Waits for the thread to complete its execution.\n",
    "Explanation:\n",
    "The join method blocks the calling thread until the thread whose join method is called terminates.\n",
    "This ensures that the main program or calling thread waits for the specified thread to finish before continuing.\n",
    "is_alive\n",
    "Use:\n",
    "Checks whether the thread is still executing.\n",
    "Explanation:\n",
    "The is_alive method returns True if the thread is still running, and False if it has finished execution.\n",
    "This method is useful for checking the status of a thread and determining if it is still active.\"\"\""
   ]
  },
  {
   "cell_type": "code",
   "execution_count": 6,
   "id": "b93c2e77-9345-4cb0-b2da-8f9f25cf3fa3",
   "metadata": {},
   "outputs": [
    {
     "name": "stdout",
     "output_type": "stream",
     "text": [
      "Square of 1: 1\n",
      "Square of 2: 4\n",
      "Square of 3: 9\n",
      "Square of 4: 16\n",
      "Square of 5: 25\n",
      "Cube of 1: 1\n",
      "Cube of 2: 8\n",
      "Cube of 3: 27\n",
      "Cube of 4: 64\n",
      "Cube of 5: 125\n",
      "Both threads have finished execution\n"
     ]
    }
   ],
   "source": [
    "#Q4. Write a python program to create two threads. Thread one must print the list of squares and thread two must print the list of cubes\n",
    "import threading\n",
    "\n",
    "def print_squares(numbers):\n",
    "    for number in numbers:\n",
    "        print(f\"Square of {number}: {number ** 2}\")\n",
    "\n",
    "def print_cubes(numbers):\n",
    "    for number in numbers:\n",
    "        print(f\"Cube of {number}: {number ** 3}\")\n",
    "numbers = [1, 2, 3, 4, 5]\n",
    "thread1 = threading.Thread(target=print_squares, args=(numbers,))\n",
    "thread2 = threading.Thread(target=print_cubes, args=(numbers,))\n",
    "thread1.start()\n",
    "thread2.start()\n",
    "thread1.join()\n",
    "thread2.join()\n",
    "print(\"Both threads have finished execution\")\n"
   ]
  },
  {
   "cell_type": "code",
   "execution_count": null,
   "id": "7f9909eb-a02f-4858-ab21-0461ecbf2ac1",
   "metadata": {},
   "outputs": [],
   "source": [
    "#Q5. State advantages and disadvantages of multithreading\n",
    "\"\"\"Advantages of Multithreading\n",
    "Improved Performance for I/O-bound Tasks: Enhances performance for tasks like file I/O and network operations.\n",
    "Enhanced Responsiveness: Keeps applications responsive, especially user interfaces.\n",
    "Resource Sharing: Threads share memory and resources efficiently.\n",
    "Better Resource Utilization: Utilizes CPU better by allowing other threads to run during I/O waits.\n",
    "Simplified Concurrent Design: Makes designing naturally concurrent applications easier.\n",
    "\n",
    "Disadvantages of Multithreading\n",
    "Complex Programming: Difficult to write and debug due to issues like race conditions and deadlocks.\n",
    "GIL Limitation in Python: GIL restricts execution to one thread at a time for CPU-bound tasks in CPython.\n",
    "Debugging Difficulty: Hard to debug due to non-deterministic execution.\n",
    "Increased Resource Consumption: Creating too many threads can consume significant resources.\n",
    "Synchronization Overhead: Managing shared resources with locks and other mechanisms can reduce performance gains.\n",
    "\"\"\"\n"
   ]
  },
  {
   "cell_type": "code",
   "execution_count": null,
   "id": "77a8570e-6548-463f-bdae-edbfaeb51377",
   "metadata": {},
   "outputs": [],
   "source": [
    "#Q6. Explain deadlocks and race conditions.\n",
    "\"\"\"Deadlocks\n",
    "Definition: Deadlock is a situation in which two or more competing actions are each waiting for the other to finish, preventing any from finishing.\n",
    "Example: Process A holds resource X and waits for resource Y, while process B holds resource Y and waits for resource X.\n",
    "\n",
    "Race Conditions\n",
    "Definition: Race conditions occur in a concurrent system when the outcome depends on the sequence or timing of uncontrollable events.\n",
    "Example: Two threads try to increment the same variable concurrently, leading to unpredictable results depending on the order of execution.\"\"\""
   ]
  }
 ],
 "metadata": {
  "kernelspec": {
   "display_name": "Python 3 (ipykernel)",
   "language": "python",
   "name": "python3"
  },
  "language_info": {
   "codemirror_mode": {
    "name": "ipython",
    "version": 3
   },
   "file_extension": ".py",
   "mimetype": "text/x-python",
   "name": "python",
   "nbconvert_exporter": "python",
   "pygments_lexer": "ipython3",
   "version": "3.10.8"
  }
 },
 "nbformat": 4,
 "nbformat_minor": 5
}
