{
 "cells": [
  {
   "cell_type": "code",
   "execution_count": 1,
   "id": "0474ac37-e255-4a04-8fb2-495621848880",
   "metadata": {},
   "outputs": [
    {
     "name": "stdout",
     "output_type": "stream",
     "text": [
      "Circle is drawn\n"
     ]
    }
   ],
   "source": [
    "# Abstraction is the concept of hiding complex implementation details and showing only the necessary features of an object.\n",
    "# Example: Consider a TV remote. You don't need to know how the remote works internally; you just need to know how to use its buttons to control the TV.\n",
    "from abc import ABC, abstractmethod\n",
    "\n",
    "# Abstract class\n",
    "class Shape(ABC):\n",
    "    @abstractmethod\n",
    "    def draw(self):\n",
    "        pass\n",
    "\n",
    "# Concrete subclass\n",
    "class Circle(Shape):\n",
    "    def draw(self):\n",
    "        print(\"Circle is drawn\")\n",
    "\n",
    "# Create an instance of Circle\n",
    "circle = Circle()\n",
    "circle.draw() \n"
   ]
  },
  {
   "cell_type": "code",
   "execution_count": 2,
   "id": "60ec0c66-9b04-4db7-9008-68231716342c",
   "metadata": {},
   "outputs": [],
   "source": [
    "# Q2. Differentiate between Abstraction and Encapsulation. Explain with an example.\n",
    "# Abstraction focuses on hiding complexity by providing a simplified interface. It emphasizes \"what\" an object does.\n",
    "# Encapsulation is about bundling data (attributes) and methods (functions) that operate on the data into a single unit (class). It emphasizes \"how\" an object works.\n"
   ]
  },
  {
   "cell_type": "code",
   "execution_count": 3,
   "id": "6a2413e0-6049-47c0-b247-2563c916e3b9",
   "metadata": {},
   "outputs": [],
   "source": [
    "# Q3. What is abc module in python? Why is it used?\n",
    "# The abc module stands for Abstract Base Classes. It provides tools for creating abstract classes in Python.\n",
    "# Abstract classes cannot be instantiated and are meant to be subclassed to provide specific implementations."
   ]
  },
  {
   "cell_type": "code",
   "execution_count": 4,
   "id": "074fb029-7383-4d4f-bb45-56d9c5e8cac3",
   "metadata": {},
   "outputs": [],
   "source": [
    "# Q4. How can we achieve data abstraction?\n",
    "# Data abstraction can be achieved by using abstract classes and methods in Python. \n",
    "# Abstract classes define methods without implementations, which must be implemented by subclasses."
   ]
  },
  {
   "cell_type": "code",
   "execution_count": 5,
   "id": "1aa75290-effd-4f81-824f-a5770a396884",
   "metadata": {},
   "outputs": [
    {
     "ename": "TypeError",
     "evalue": "Can't instantiate abstract class Animal with abstract method speak",
     "output_type": "error",
     "traceback": [
      "\u001b[0;31m---------------------------------------------------------------------------\u001b[0m",
      "\u001b[0;31mTypeError\u001b[0m                                 Traceback (most recent call last)",
      "Cell \u001b[0;32mIn[5], line 12\u001b[0m\n\u001b[1;32m      9\u001b[0m         \u001b[38;5;28;01mpass\u001b[39;00m\n\u001b[1;32m     11\u001b[0m \u001b[38;5;66;03m# Attempting to create an instance of an abstract class\u001b[39;00m\n\u001b[0;32m---> 12\u001b[0m animal \u001b[38;5;241m=\u001b[39m \u001b[43mAnimal\u001b[49m\u001b[43m(\u001b[49m\u001b[43m)\u001b[49m  \u001b[38;5;66;03m# Raises TypeError: Can't instantiate abstract class Animal with abstract methods speak\u001b[39;00m\n",
      "\u001b[0;31mTypeError\u001b[0m: Can't instantiate abstract class Animal with abstract method speak"
     ]
    }
   ],
   "source": [
    "# Q5. Can we create an instance of an abstract class? Explain your answer.\n",
    "# No, we cannot create an instance of an abstract class in Python. \n",
    "# Abstract classes are meant to be subclassed, and their methods must be implemented by the subclass.\n",
    "from abc import ABC, abstractmethod\n",
    "\n",
    "class Animal(ABC):\n",
    "    @abstractmethod\n",
    "    def speak(self):\n",
    "        pass\n",
    "\n",
    "# Attempting to create an instance of an abstract class\n",
    "animal = Animal()  # Raises TypeError: Can't instantiate abstract class Animal with abstract methods speak\n"
   ]
  },
  {
   "cell_type": "code",
   "execution_count": null,
   "id": "1f5928cb-1476-4c47-9136-d5ece2b93c21",
   "metadata": {},
   "outputs": [],
   "source": []
  }
 ],
 "metadata": {
  "kernelspec": {
   "display_name": "Python 3 (ipykernel)",
   "language": "python",
   "name": "python3"
  },
  "language_info": {
   "codemirror_mode": {
    "name": "ipython",
    "version": 3
   },
   "file_extension": ".py",
   "mimetype": "text/x-python",
   "name": "python",
   "nbconvert_exporter": "python",
   "pygments_lexer": "ipython3",
   "version": "3.10.8"
  }
 },
 "nbformat": 4,
 "nbformat_minor": 5
}
